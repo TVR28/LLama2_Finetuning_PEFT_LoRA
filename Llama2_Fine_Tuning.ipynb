{
  "nbformat": 4,
  "nbformat_minor": 0,
  "metadata": {
    "colab": {
      "provenance": [],
      "gpuType": "T4"
    },
    "kernelspec": {
      "name": "python3",
      "display_name": "Python 3"
    },
    "language_info": {
      "name": "python"
    },
    "accelerator": "GPU",
    "widgets": {
      "application/vnd.jupyter.widget-state+json": {
        "ec0445937c5e4561b31f94e60ed8ee8b": {
          "model_module": "@jupyter-widgets/controls",
          "model_name": "VBoxModel",
          "model_module_version": "1.5.0",
          "state": {
            "_dom_classes": [],
            "_model_module": "@jupyter-widgets/controls",
            "_model_module_version": "1.5.0",
            "_model_name": "VBoxModel",
            "_view_count": null,
            "_view_module": "@jupyter-widgets/controls",
            "_view_module_version": "1.5.0",
            "_view_name": "VBoxView",
            "box_style": "",
            "children": [
              "IPY_MODEL_b9a15e52581c465c884ee861aa9a25ca",
              "IPY_MODEL_426c6950e51a42c28758f571581fab5e",
              "IPY_MODEL_bcc3fbae0bae470abe010d5d73e8fdc1",
              "IPY_MODEL_4fdb0c9400a84949a5b33dced7ce3ffd"
            ],
            "layout": "IPY_MODEL_f867ac50f9d64bdda0483849b3176f53"
          }
        },
        "39fbbb2d8a0447ecad1d8c9d5431a7c9": {
          "model_module": "@jupyter-widgets/controls",
          "model_name": "HTMLModel",
          "model_module_version": "1.5.0",
          "state": {
            "_dom_classes": [],
            "_model_module": "@jupyter-widgets/controls",
            "_model_module_version": "1.5.0",
            "_model_name": "HTMLModel",
            "_view_count": null,
            "_view_module": "@jupyter-widgets/controls",
            "_view_module_version": "1.5.0",
            "_view_name": "HTMLView",
            "description": "",
            "description_tooltip": null,
            "layout": "IPY_MODEL_89b0756cfdda4e5aad0b353b44f85a16",
            "placeholder": "​",
            "style": "IPY_MODEL_40829e743ae843c3ae0bd904f8ea2515",
            "value": "<center> <img\nsrc=https://huggingface.co/front/assets/huggingface_logo-noborder.svg\nalt='Hugging Face'> <br> Copy a token from <a\nhref=\"https://huggingface.co/settings/tokens\" target=\"_blank\">your Hugging Face\ntokens page</a> and paste it below. <br> Immediately click login after copying\nyour token or it might be stored in plain text in this notebook file. </center>"
          }
        },
        "0d8b331d55ce4404908584f1129bb749": {
          "model_module": "@jupyter-widgets/controls",
          "model_name": "PasswordModel",
          "model_module_version": "1.5.0",
          "state": {
            "_dom_classes": [],
            "_model_module": "@jupyter-widgets/controls",
            "_model_module_version": "1.5.0",
            "_model_name": "PasswordModel",
            "_view_count": null,
            "_view_module": "@jupyter-widgets/controls",
            "_view_module_version": "1.5.0",
            "_view_name": "PasswordView",
            "continuous_update": true,
            "description": "Token:",
            "description_tooltip": null,
            "disabled": false,
            "layout": "IPY_MODEL_ec1555cf0f4b4556967e9f38545cfdae",
            "placeholder": "​",
            "style": "IPY_MODEL_88b853a738114c0995c87de20df838b3",
            "value": ""
          }
        },
        "1adb877df70044869082c94914891e9e": {
          "model_module": "@jupyter-widgets/controls",
          "model_name": "CheckboxModel",
          "model_module_version": "1.5.0",
          "state": {
            "_dom_classes": [],
            "_model_module": "@jupyter-widgets/controls",
            "_model_module_version": "1.5.0",
            "_model_name": "CheckboxModel",
            "_view_count": null,
            "_view_module": "@jupyter-widgets/controls",
            "_view_module_version": "1.5.0",
            "_view_name": "CheckboxView",
            "description": "Add token as git credential?",
            "description_tooltip": null,
            "disabled": false,
            "indent": true,
            "layout": "IPY_MODEL_cfb96a6add2f4ac9b2317928fe0c1cbb",
            "style": "IPY_MODEL_6f4e816682aa4c5b8d15557af397c89c",
            "value": true
          }
        },
        "d3b5222c61784523bb9b7c0db7d82bda": {
          "model_module": "@jupyter-widgets/controls",
          "model_name": "ButtonModel",
          "model_module_version": "1.5.0",
          "state": {
            "_dom_classes": [],
            "_model_module": "@jupyter-widgets/controls",
            "_model_module_version": "1.5.0",
            "_model_name": "ButtonModel",
            "_view_count": null,
            "_view_module": "@jupyter-widgets/controls",
            "_view_module_version": "1.5.0",
            "_view_name": "ButtonView",
            "button_style": "",
            "description": "Login",
            "disabled": false,
            "icon": "",
            "layout": "IPY_MODEL_407e5d502bf242529477ef586b9df8ca",
            "style": "IPY_MODEL_4c6f3dcaac514cbbb5187c7353b7aed7",
            "tooltip": ""
          }
        },
        "8d8194ef78c347d5a46a94d0129ed299": {
          "model_module": "@jupyter-widgets/controls",
          "model_name": "HTMLModel",
          "model_module_version": "1.5.0",
          "state": {
            "_dom_classes": [],
            "_model_module": "@jupyter-widgets/controls",
            "_model_module_version": "1.5.0",
            "_model_name": "HTMLModel",
            "_view_count": null,
            "_view_module": "@jupyter-widgets/controls",
            "_view_module_version": "1.5.0",
            "_view_name": "HTMLView",
            "description": "",
            "description_tooltip": null,
            "layout": "IPY_MODEL_46f977be3c9247cfb1d0ea915d2de7e7",
            "placeholder": "​",
            "style": "IPY_MODEL_c1ad48058e2e4932ad12719bbb8f2f6a",
            "value": "\n<b>Pro Tip:</b> If you don't already have one, you can create a dedicated\n'notebooks' token with 'write' access, that you can then easily reuse for all\nnotebooks. </center>"
          }
        },
        "f867ac50f9d64bdda0483849b3176f53": {
          "model_module": "@jupyter-widgets/base",
          "model_name": "LayoutModel",
          "model_module_version": "1.2.0",
          "state": {
            "_model_module": "@jupyter-widgets/base",
            "_model_module_version": "1.2.0",
            "_model_name": "LayoutModel",
            "_view_count": null,
            "_view_module": "@jupyter-widgets/base",
            "_view_module_version": "1.2.0",
            "_view_name": "LayoutView",
            "align_content": null,
            "align_items": "center",
            "align_self": null,
            "border": null,
            "bottom": null,
            "display": "flex",
            "flex": null,
            "flex_flow": "column",
            "grid_area": null,
            "grid_auto_columns": null,
            "grid_auto_flow": null,
            "grid_auto_rows": null,
            "grid_column": null,
            "grid_gap": null,
            "grid_row": null,
            "grid_template_areas": null,
            "grid_template_columns": null,
            "grid_template_rows": null,
            "height": null,
            "justify_content": null,
            "justify_items": null,
            "left": null,
            "margin": null,
            "max_height": null,
            "max_width": null,
            "min_height": null,
            "min_width": null,
            "object_fit": null,
            "object_position": null,
            "order": null,
            "overflow": null,
            "overflow_x": null,
            "overflow_y": null,
            "padding": null,
            "right": null,
            "top": null,
            "visibility": null,
            "width": "50%"
          }
        },
        "89b0756cfdda4e5aad0b353b44f85a16": {
          "model_module": "@jupyter-widgets/base",
          "model_name": "LayoutModel",
          "model_module_version": "1.2.0",
          "state": {
            "_model_module": "@jupyter-widgets/base",
            "_model_module_version": "1.2.0",
            "_model_name": "LayoutModel",
            "_view_count": null,
            "_view_module": "@jupyter-widgets/base",
            "_view_module_version": "1.2.0",
            "_view_name": "LayoutView",
            "align_content": null,
            "align_items": null,
            "align_self": null,
            "border": null,
            "bottom": null,
            "display": null,
            "flex": null,
            "flex_flow": null,
            "grid_area": null,
            "grid_auto_columns": null,
            "grid_auto_flow": null,
            "grid_auto_rows": null,
            "grid_column": null,
            "grid_gap": null,
            "grid_row": null,
            "grid_template_areas": null,
            "grid_template_columns": null,
            "grid_template_rows": null,
            "height": null,
            "justify_content": null,
            "justify_items": null,
            "left": null,
            "margin": null,
            "max_height": null,
            "max_width": null,
            "min_height": null,
            "min_width": null,
            "object_fit": null,
            "object_position": null,
            "order": null,
            "overflow": null,
            "overflow_x": null,
            "overflow_y": null,
            "padding": null,
            "right": null,
            "top": null,
            "visibility": null,
            "width": null
          }
        },
        "40829e743ae843c3ae0bd904f8ea2515": {
          "model_module": "@jupyter-widgets/controls",
          "model_name": "DescriptionStyleModel",
          "model_module_version": "1.5.0",
          "state": {
            "_model_module": "@jupyter-widgets/controls",
            "_model_module_version": "1.5.0",
            "_model_name": "DescriptionStyleModel",
            "_view_count": null,
            "_view_module": "@jupyter-widgets/base",
            "_view_module_version": "1.2.0",
            "_view_name": "StyleView",
            "description_width": ""
          }
        },
        "ec1555cf0f4b4556967e9f38545cfdae": {
          "model_module": "@jupyter-widgets/base",
          "model_name": "LayoutModel",
          "model_module_version": "1.2.0",
          "state": {
            "_model_module": "@jupyter-widgets/base",
            "_model_module_version": "1.2.0",
            "_model_name": "LayoutModel",
            "_view_count": null,
            "_view_module": "@jupyter-widgets/base",
            "_view_module_version": "1.2.0",
            "_view_name": "LayoutView",
            "align_content": null,
            "align_items": null,
            "align_self": null,
            "border": null,
            "bottom": null,
            "display": null,
            "flex": null,
            "flex_flow": null,
            "grid_area": null,
            "grid_auto_columns": null,
            "grid_auto_flow": null,
            "grid_auto_rows": null,
            "grid_column": null,
            "grid_gap": null,
            "grid_row": null,
            "grid_template_areas": null,
            "grid_template_columns": null,
            "grid_template_rows": null,
            "height": null,
            "justify_content": null,
            "justify_items": null,
            "left": null,
            "margin": null,
            "max_height": null,
            "max_width": null,
            "min_height": null,
            "min_width": null,
            "object_fit": null,
            "object_position": null,
            "order": null,
            "overflow": null,
            "overflow_x": null,
            "overflow_y": null,
            "padding": null,
            "right": null,
            "top": null,
            "visibility": null,
            "width": null
          }
        },
        "88b853a738114c0995c87de20df838b3": {
          "model_module": "@jupyter-widgets/controls",
          "model_name": "DescriptionStyleModel",
          "model_module_version": "1.5.0",
          "state": {
            "_model_module": "@jupyter-widgets/controls",
            "_model_module_version": "1.5.0",
            "_model_name": "DescriptionStyleModel",
            "_view_count": null,
            "_view_module": "@jupyter-widgets/base",
            "_view_module_version": "1.2.0",
            "_view_name": "StyleView",
            "description_width": ""
          }
        },
        "cfb96a6add2f4ac9b2317928fe0c1cbb": {
          "model_module": "@jupyter-widgets/base",
          "model_name": "LayoutModel",
          "model_module_version": "1.2.0",
          "state": {
            "_model_module": "@jupyter-widgets/base",
            "_model_module_version": "1.2.0",
            "_model_name": "LayoutModel",
            "_view_count": null,
            "_view_module": "@jupyter-widgets/base",
            "_view_module_version": "1.2.0",
            "_view_name": "LayoutView",
            "align_content": null,
            "align_items": null,
            "align_self": null,
            "border": null,
            "bottom": null,
            "display": null,
            "flex": null,
            "flex_flow": null,
            "grid_area": null,
            "grid_auto_columns": null,
            "grid_auto_flow": null,
            "grid_auto_rows": null,
            "grid_column": null,
            "grid_gap": null,
            "grid_row": null,
            "grid_template_areas": null,
            "grid_template_columns": null,
            "grid_template_rows": null,
            "height": null,
            "justify_content": null,
            "justify_items": null,
            "left": null,
            "margin": null,
            "max_height": null,
            "max_width": null,
            "min_height": null,
            "min_width": null,
            "object_fit": null,
            "object_position": null,
            "order": null,
            "overflow": null,
            "overflow_x": null,
            "overflow_y": null,
            "padding": null,
            "right": null,
            "top": null,
            "visibility": null,
            "width": null
          }
        },
        "6f4e816682aa4c5b8d15557af397c89c": {
          "model_module": "@jupyter-widgets/controls",
          "model_name": "DescriptionStyleModel",
          "model_module_version": "1.5.0",
          "state": {
            "_model_module": "@jupyter-widgets/controls",
            "_model_module_version": "1.5.0",
            "_model_name": "DescriptionStyleModel",
            "_view_count": null,
            "_view_module": "@jupyter-widgets/base",
            "_view_module_version": "1.2.0",
            "_view_name": "StyleView",
            "description_width": ""
          }
        },
        "407e5d502bf242529477ef586b9df8ca": {
          "model_module": "@jupyter-widgets/base",
          "model_name": "LayoutModel",
          "model_module_version": "1.2.0",
          "state": {
            "_model_module": "@jupyter-widgets/base",
            "_model_module_version": "1.2.0",
            "_model_name": "LayoutModel",
            "_view_count": null,
            "_view_module": "@jupyter-widgets/base",
            "_view_module_version": "1.2.0",
            "_view_name": "LayoutView",
            "align_content": null,
            "align_items": null,
            "align_self": null,
            "border": null,
            "bottom": null,
            "display": null,
            "flex": null,
            "flex_flow": null,
            "grid_area": null,
            "grid_auto_columns": null,
            "grid_auto_flow": null,
            "grid_auto_rows": null,
            "grid_column": null,
            "grid_gap": null,
            "grid_row": null,
            "grid_template_areas": null,
            "grid_template_columns": null,
            "grid_template_rows": null,
            "height": null,
            "justify_content": null,
            "justify_items": null,
            "left": null,
            "margin": null,
            "max_height": null,
            "max_width": null,
            "min_height": null,
            "min_width": null,
            "object_fit": null,
            "object_position": null,
            "order": null,
            "overflow": null,
            "overflow_x": null,
            "overflow_y": null,
            "padding": null,
            "right": null,
            "top": null,
            "visibility": null,
            "width": null
          }
        },
        "4c6f3dcaac514cbbb5187c7353b7aed7": {
          "model_module": "@jupyter-widgets/controls",
          "model_name": "ButtonStyleModel",
          "model_module_version": "1.5.0",
          "state": {
            "_model_module": "@jupyter-widgets/controls",
            "_model_module_version": "1.5.0",
            "_model_name": "ButtonStyleModel",
            "_view_count": null,
            "_view_module": "@jupyter-widgets/base",
            "_view_module_version": "1.2.0",
            "_view_name": "StyleView",
            "button_color": null,
            "font_weight": ""
          }
        },
        "46f977be3c9247cfb1d0ea915d2de7e7": {
          "model_module": "@jupyter-widgets/base",
          "model_name": "LayoutModel",
          "model_module_version": "1.2.0",
          "state": {
            "_model_module": "@jupyter-widgets/base",
            "_model_module_version": "1.2.0",
            "_model_name": "LayoutModel",
            "_view_count": null,
            "_view_module": "@jupyter-widgets/base",
            "_view_module_version": "1.2.0",
            "_view_name": "LayoutView",
            "align_content": null,
            "align_items": null,
            "align_self": null,
            "border": null,
            "bottom": null,
            "display": null,
            "flex": null,
            "flex_flow": null,
            "grid_area": null,
            "grid_auto_columns": null,
            "grid_auto_flow": null,
            "grid_auto_rows": null,
            "grid_column": null,
            "grid_gap": null,
            "grid_row": null,
            "grid_template_areas": null,
            "grid_template_columns": null,
            "grid_template_rows": null,
            "height": null,
            "justify_content": null,
            "justify_items": null,
            "left": null,
            "margin": null,
            "max_height": null,
            "max_width": null,
            "min_height": null,
            "min_width": null,
            "object_fit": null,
            "object_position": null,
            "order": null,
            "overflow": null,
            "overflow_x": null,
            "overflow_y": null,
            "padding": null,
            "right": null,
            "top": null,
            "visibility": null,
            "width": null
          }
        },
        "c1ad48058e2e4932ad12719bbb8f2f6a": {
          "model_module": "@jupyter-widgets/controls",
          "model_name": "DescriptionStyleModel",
          "model_module_version": "1.5.0",
          "state": {
            "_model_module": "@jupyter-widgets/controls",
            "_model_module_version": "1.5.0",
            "_model_name": "DescriptionStyleModel",
            "_view_count": null,
            "_view_module": "@jupyter-widgets/base",
            "_view_module_version": "1.2.0",
            "_view_name": "StyleView",
            "description_width": ""
          }
        },
        "9af5e0c4a6bd41608f187826fd4e64c5": {
          "model_module": "@jupyter-widgets/controls",
          "model_name": "LabelModel",
          "model_module_version": "1.5.0",
          "state": {
            "_dom_classes": [],
            "_model_module": "@jupyter-widgets/controls",
            "_model_module_version": "1.5.0",
            "_model_name": "LabelModel",
            "_view_count": null,
            "_view_module": "@jupyter-widgets/controls",
            "_view_module_version": "1.5.0",
            "_view_name": "LabelView",
            "description": "",
            "description_tooltip": null,
            "layout": "IPY_MODEL_9dd2a27c55c8468e8ddd26a91952decf",
            "placeholder": "​",
            "style": "IPY_MODEL_e9cb6fc27bce4bdc9a0d13c403668b8c",
            "value": "Connecting..."
          }
        },
        "9dd2a27c55c8468e8ddd26a91952decf": {
          "model_module": "@jupyter-widgets/base",
          "model_name": "LayoutModel",
          "model_module_version": "1.2.0",
          "state": {
            "_model_module": "@jupyter-widgets/base",
            "_model_module_version": "1.2.0",
            "_model_name": "LayoutModel",
            "_view_count": null,
            "_view_module": "@jupyter-widgets/base",
            "_view_module_version": "1.2.0",
            "_view_name": "LayoutView",
            "align_content": null,
            "align_items": null,
            "align_self": null,
            "border": null,
            "bottom": null,
            "display": null,
            "flex": null,
            "flex_flow": null,
            "grid_area": null,
            "grid_auto_columns": null,
            "grid_auto_flow": null,
            "grid_auto_rows": null,
            "grid_column": null,
            "grid_gap": null,
            "grid_row": null,
            "grid_template_areas": null,
            "grid_template_columns": null,
            "grid_template_rows": null,
            "height": null,
            "justify_content": null,
            "justify_items": null,
            "left": null,
            "margin": null,
            "max_height": null,
            "max_width": null,
            "min_height": null,
            "min_width": null,
            "object_fit": null,
            "object_position": null,
            "order": null,
            "overflow": null,
            "overflow_x": null,
            "overflow_y": null,
            "padding": null,
            "right": null,
            "top": null,
            "visibility": null,
            "width": null
          }
        },
        "e9cb6fc27bce4bdc9a0d13c403668b8c": {
          "model_module": "@jupyter-widgets/controls",
          "model_name": "DescriptionStyleModel",
          "model_module_version": "1.5.0",
          "state": {
            "_model_module": "@jupyter-widgets/controls",
            "_model_module_version": "1.5.0",
            "_model_name": "DescriptionStyleModel",
            "_view_count": null,
            "_view_module": "@jupyter-widgets/base",
            "_view_module_version": "1.2.0",
            "_view_name": "StyleView",
            "description_width": ""
          }
        },
        "b9a15e52581c465c884ee861aa9a25ca": {
          "model_module": "@jupyter-widgets/controls",
          "model_name": "LabelModel",
          "model_module_version": "1.5.0",
          "state": {
            "_dom_classes": [],
            "_model_module": "@jupyter-widgets/controls",
            "_model_module_version": "1.5.0",
            "_model_name": "LabelModel",
            "_view_count": null,
            "_view_module": "@jupyter-widgets/controls",
            "_view_module_version": "1.5.0",
            "_view_name": "LabelView",
            "description": "",
            "description_tooltip": null,
            "layout": "IPY_MODEL_0096b5c834a74672bdbfd90bbc02544e",
            "placeholder": "​",
            "style": "IPY_MODEL_f050bcc0d2334b5a93eed399c2b178cf",
            "value": "Token is valid (permission: write)."
          }
        },
        "426c6950e51a42c28758f571581fab5e": {
          "model_module": "@jupyter-widgets/controls",
          "model_name": "LabelModel",
          "model_module_version": "1.5.0",
          "state": {
            "_dom_classes": [],
            "_model_module": "@jupyter-widgets/controls",
            "_model_module_version": "1.5.0",
            "_model_name": "LabelModel",
            "_view_count": null,
            "_view_module": "@jupyter-widgets/controls",
            "_view_module_version": "1.5.0",
            "_view_name": "LabelView",
            "description": "",
            "description_tooltip": null,
            "layout": "IPY_MODEL_1618c293002c42f6bf60aac7dcb9d21a",
            "placeholder": "​",
            "style": "IPY_MODEL_46c177a109f4416ca275f4c74ad3d798",
            "value": "Your token has been saved in your configured git credential helpers (store)."
          }
        },
        "bcc3fbae0bae470abe010d5d73e8fdc1": {
          "model_module": "@jupyter-widgets/controls",
          "model_name": "LabelModel",
          "model_module_version": "1.5.0",
          "state": {
            "_dom_classes": [],
            "_model_module": "@jupyter-widgets/controls",
            "_model_module_version": "1.5.0",
            "_model_name": "LabelModel",
            "_view_count": null,
            "_view_module": "@jupyter-widgets/controls",
            "_view_module_version": "1.5.0",
            "_view_name": "LabelView",
            "description": "",
            "description_tooltip": null,
            "layout": "IPY_MODEL_453b5c87b919492288b4d6ef7a27bee4",
            "placeholder": "​",
            "style": "IPY_MODEL_8e7b840b2f1d4548a6b63d673e0be09d",
            "value": "Your token has been saved to /root/.cache/huggingface/token"
          }
        },
        "4fdb0c9400a84949a5b33dced7ce3ffd": {
          "model_module": "@jupyter-widgets/controls",
          "model_name": "LabelModel",
          "model_module_version": "1.5.0",
          "state": {
            "_dom_classes": [],
            "_model_module": "@jupyter-widgets/controls",
            "_model_module_version": "1.5.0",
            "_model_name": "LabelModel",
            "_view_count": null,
            "_view_module": "@jupyter-widgets/controls",
            "_view_module_version": "1.5.0",
            "_view_name": "LabelView",
            "description": "",
            "description_tooltip": null,
            "layout": "IPY_MODEL_38c392dffccd419dbcc718cf2c0737dd",
            "placeholder": "​",
            "style": "IPY_MODEL_f56334dcc18447718d8faf72b0a5b0e2",
            "value": "Login successful"
          }
        },
        "0096b5c834a74672bdbfd90bbc02544e": {
          "model_module": "@jupyter-widgets/base",
          "model_name": "LayoutModel",
          "model_module_version": "1.2.0",
          "state": {
            "_model_module": "@jupyter-widgets/base",
            "_model_module_version": "1.2.0",
            "_model_name": "LayoutModel",
            "_view_count": null,
            "_view_module": "@jupyter-widgets/base",
            "_view_module_version": "1.2.0",
            "_view_name": "LayoutView",
            "align_content": null,
            "align_items": null,
            "align_self": null,
            "border": null,
            "bottom": null,
            "display": null,
            "flex": null,
            "flex_flow": null,
            "grid_area": null,
            "grid_auto_columns": null,
            "grid_auto_flow": null,
            "grid_auto_rows": null,
            "grid_column": null,
            "grid_gap": null,
            "grid_row": null,
            "grid_template_areas": null,
            "grid_template_columns": null,
            "grid_template_rows": null,
            "height": null,
            "justify_content": null,
            "justify_items": null,
            "left": null,
            "margin": null,
            "max_height": null,
            "max_width": null,
            "min_height": null,
            "min_width": null,
            "object_fit": null,
            "object_position": null,
            "order": null,
            "overflow": null,
            "overflow_x": null,
            "overflow_y": null,
            "padding": null,
            "right": null,
            "top": null,
            "visibility": null,
            "width": null
          }
        },
        "f050bcc0d2334b5a93eed399c2b178cf": {
          "model_module": "@jupyter-widgets/controls",
          "model_name": "DescriptionStyleModel",
          "model_module_version": "1.5.0",
          "state": {
            "_model_module": "@jupyter-widgets/controls",
            "_model_module_version": "1.5.0",
            "_model_name": "DescriptionStyleModel",
            "_view_count": null,
            "_view_module": "@jupyter-widgets/base",
            "_view_module_version": "1.2.0",
            "_view_name": "StyleView",
            "description_width": ""
          }
        },
        "1618c293002c42f6bf60aac7dcb9d21a": {
          "model_module": "@jupyter-widgets/base",
          "model_name": "LayoutModel",
          "model_module_version": "1.2.0",
          "state": {
            "_model_module": "@jupyter-widgets/base",
            "_model_module_version": "1.2.0",
            "_model_name": "LayoutModel",
            "_view_count": null,
            "_view_module": "@jupyter-widgets/base",
            "_view_module_version": "1.2.0",
            "_view_name": "LayoutView",
            "align_content": null,
            "align_items": null,
            "align_self": null,
            "border": null,
            "bottom": null,
            "display": null,
            "flex": null,
            "flex_flow": null,
            "grid_area": null,
            "grid_auto_columns": null,
            "grid_auto_flow": null,
            "grid_auto_rows": null,
            "grid_column": null,
            "grid_gap": null,
            "grid_row": null,
            "grid_template_areas": null,
            "grid_template_columns": null,
            "grid_template_rows": null,
            "height": null,
            "justify_content": null,
            "justify_items": null,
            "left": null,
            "margin": null,
            "max_height": null,
            "max_width": null,
            "min_height": null,
            "min_width": null,
            "object_fit": null,
            "object_position": null,
            "order": null,
            "overflow": null,
            "overflow_x": null,
            "overflow_y": null,
            "padding": null,
            "right": null,
            "top": null,
            "visibility": null,
            "width": null
          }
        },
        "46c177a109f4416ca275f4c74ad3d798": {
          "model_module": "@jupyter-widgets/controls",
          "model_name": "DescriptionStyleModel",
          "model_module_version": "1.5.0",
          "state": {
            "_model_module": "@jupyter-widgets/controls",
            "_model_module_version": "1.5.0",
            "_model_name": "DescriptionStyleModel",
            "_view_count": null,
            "_view_module": "@jupyter-widgets/base",
            "_view_module_version": "1.2.0",
            "_view_name": "StyleView",
            "description_width": ""
          }
        },
        "453b5c87b919492288b4d6ef7a27bee4": {
          "model_module": "@jupyter-widgets/base",
          "model_name": "LayoutModel",
          "model_module_version": "1.2.0",
          "state": {
            "_model_module": "@jupyter-widgets/base",
            "_model_module_version": "1.2.0",
            "_model_name": "LayoutModel",
            "_view_count": null,
            "_view_module": "@jupyter-widgets/base",
            "_view_module_version": "1.2.0",
            "_view_name": "LayoutView",
            "align_content": null,
            "align_items": null,
            "align_self": null,
            "border": null,
            "bottom": null,
            "display": null,
            "flex": null,
            "flex_flow": null,
            "grid_area": null,
            "grid_auto_columns": null,
            "grid_auto_flow": null,
            "grid_auto_rows": null,
            "grid_column": null,
            "grid_gap": null,
            "grid_row": null,
            "grid_template_areas": null,
            "grid_template_columns": null,
            "grid_template_rows": null,
            "height": null,
            "justify_content": null,
            "justify_items": null,
            "left": null,
            "margin": null,
            "max_height": null,
            "max_width": null,
            "min_height": null,
            "min_width": null,
            "object_fit": null,
            "object_position": null,
            "order": null,
            "overflow": null,
            "overflow_x": null,
            "overflow_y": null,
            "padding": null,
            "right": null,
            "top": null,
            "visibility": null,
            "width": null
          }
        },
        "8e7b840b2f1d4548a6b63d673e0be09d": {
          "model_module": "@jupyter-widgets/controls",
          "model_name": "DescriptionStyleModel",
          "model_module_version": "1.5.0",
          "state": {
            "_model_module": "@jupyter-widgets/controls",
            "_model_module_version": "1.5.0",
            "_model_name": "DescriptionStyleModel",
            "_view_count": null,
            "_view_module": "@jupyter-widgets/base",
            "_view_module_version": "1.2.0",
            "_view_name": "StyleView",
            "description_width": ""
          }
        },
        "38c392dffccd419dbcc718cf2c0737dd": {
          "model_module": "@jupyter-widgets/base",
          "model_name": "LayoutModel",
          "model_module_version": "1.2.0",
          "state": {
            "_model_module": "@jupyter-widgets/base",
            "_model_module_version": "1.2.0",
            "_model_name": "LayoutModel",
            "_view_count": null,
            "_view_module": "@jupyter-widgets/base",
            "_view_module_version": "1.2.0",
            "_view_name": "LayoutView",
            "align_content": null,
            "align_items": null,
            "align_self": null,
            "border": null,
            "bottom": null,
            "display": null,
            "flex": null,
            "flex_flow": null,
            "grid_area": null,
            "grid_auto_columns": null,
            "grid_auto_flow": null,
            "grid_auto_rows": null,
            "grid_column": null,
            "grid_gap": null,
            "grid_row": null,
            "grid_template_areas": null,
            "grid_template_columns": null,
            "grid_template_rows": null,
            "height": null,
            "justify_content": null,
            "justify_items": null,
            "left": null,
            "margin": null,
            "max_height": null,
            "max_width": null,
            "min_height": null,
            "min_width": null,
            "object_fit": null,
            "object_position": null,
            "order": null,
            "overflow": null,
            "overflow_x": null,
            "overflow_y": null,
            "padding": null,
            "right": null,
            "top": null,
            "visibility": null,
            "width": null
          }
        },
        "f56334dcc18447718d8faf72b0a5b0e2": {
          "model_module": "@jupyter-widgets/controls",
          "model_name": "DescriptionStyleModel",
          "model_module_version": "1.5.0",
          "state": {
            "_model_module": "@jupyter-widgets/controls",
            "_model_module_version": "1.5.0",
            "_model_name": "DescriptionStyleModel",
            "_view_count": null,
            "_view_module": "@jupyter-widgets/base",
            "_view_module_version": "1.2.0",
            "_view_name": "StyleView",
            "description_width": ""
          }
        },
        "4c44ff9ea7db4f3a8d2fc8b183f71732": {
          "model_module": "@jupyter-widgets/controls",
          "model_name": "HBoxModel",
          "model_module_version": "1.5.0",
          "state": {
            "_dom_classes": [],
            "_model_module": "@jupyter-widgets/controls",
            "_model_module_version": "1.5.0",
            "_model_name": "HBoxModel",
            "_view_count": null,
            "_view_module": "@jupyter-widgets/controls",
            "_view_module_version": "1.5.0",
            "_view_name": "HBoxView",
            "box_style": "",
            "children": [
              "IPY_MODEL_de4abce21cd7497faee776977af80169",
              "IPY_MODEL_a150f4747d9f4fb9b292572cb8ae6f6b",
              "IPY_MODEL_41d8c1259b294ad1ab331696f8ef9d80"
            ],
            "layout": "IPY_MODEL_56331b59815b4ceca6ee1f6fff2fda30"
          }
        },
        "de4abce21cd7497faee776977af80169": {
          "model_module": "@jupyter-widgets/controls",
          "model_name": "HTMLModel",
          "model_module_version": "1.5.0",
          "state": {
            "_dom_classes": [],
            "_model_module": "@jupyter-widgets/controls",
            "_model_module_version": "1.5.0",
            "_model_name": "HTMLModel",
            "_view_count": null,
            "_view_module": "@jupyter-widgets/controls",
            "_view_module_version": "1.5.0",
            "_view_name": "HTMLView",
            "description": "",
            "description_tooltip": null,
            "layout": "IPY_MODEL_b1e6d4ba423643648f5f2ffae237762f",
            "placeholder": "​",
            "style": "IPY_MODEL_0dd34900e47c45f4a25eeb97cf578f12",
            "value": "Loading checkpoint shards: 100%"
          }
        },
        "a150f4747d9f4fb9b292572cb8ae6f6b": {
          "model_module": "@jupyter-widgets/controls",
          "model_name": "FloatProgressModel",
          "model_module_version": "1.5.0",
          "state": {
            "_dom_classes": [],
            "_model_module": "@jupyter-widgets/controls",
            "_model_module_version": "1.5.0",
            "_model_name": "FloatProgressModel",
            "_view_count": null,
            "_view_module": "@jupyter-widgets/controls",
            "_view_module_version": "1.5.0",
            "_view_name": "ProgressView",
            "bar_style": "success",
            "description": "",
            "description_tooltip": null,
            "layout": "IPY_MODEL_38a397e5e22746019160b2cb3d054668",
            "max": 2,
            "min": 0,
            "orientation": "horizontal",
            "style": "IPY_MODEL_fa33c6620604462db1b1c98343799c05",
            "value": 2
          }
        },
        "41d8c1259b294ad1ab331696f8ef9d80": {
          "model_module": "@jupyter-widgets/controls",
          "model_name": "HTMLModel",
          "model_module_version": "1.5.0",
          "state": {
            "_dom_classes": [],
            "_model_module": "@jupyter-widgets/controls",
            "_model_module_version": "1.5.0",
            "_model_name": "HTMLModel",
            "_view_count": null,
            "_view_module": "@jupyter-widgets/controls",
            "_view_module_version": "1.5.0",
            "_view_name": "HTMLView",
            "description": "",
            "description_tooltip": null,
            "layout": "IPY_MODEL_ad92099f92b14266a9dab717fbba3fb7",
            "placeholder": "​",
            "style": "IPY_MODEL_bf89919f9ddd495e99951a13a913147c",
            "value": " 2/2 [01:06&lt;00:00, 30.42s/it]"
          }
        },
        "56331b59815b4ceca6ee1f6fff2fda30": {
          "model_module": "@jupyter-widgets/base",
          "model_name": "LayoutModel",
          "model_module_version": "1.2.0",
          "state": {
            "_model_module": "@jupyter-widgets/base",
            "_model_module_version": "1.2.0",
            "_model_name": "LayoutModel",
            "_view_count": null,
            "_view_module": "@jupyter-widgets/base",
            "_view_module_version": "1.2.0",
            "_view_name": "LayoutView",
            "align_content": null,
            "align_items": null,
            "align_self": null,
            "border": null,
            "bottom": null,
            "display": null,
            "flex": null,
            "flex_flow": null,
            "grid_area": null,
            "grid_auto_columns": null,
            "grid_auto_flow": null,
            "grid_auto_rows": null,
            "grid_column": null,
            "grid_gap": null,
            "grid_row": null,
            "grid_template_areas": null,
            "grid_template_columns": null,
            "grid_template_rows": null,
            "height": null,
            "justify_content": null,
            "justify_items": null,
            "left": null,
            "margin": null,
            "max_height": null,
            "max_width": null,
            "min_height": null,
            "min_width": null,
            "object_fit": null,
            "object_position": null,
            "order": null,
            "overflow": null,
            "overflow_x": null,
            "overflow_y": null,
            "padding": null,
            "right": null,
            "top": null,
            "visibility": null,
            "width": null
          }
        },
        "b1e6d4ba423643648f5f2ffae237762f": {
          "model_module": "@jupyter-widgets/base",
          "model_name": "LayoutModel",
          "model_module_version": "1.2.0",
          "state": {
            "_model_module": "@jupyter-widgets/base",
            "_model_module_version": "1.2.0",
            "_model_name": "LayoutModel",
            "_view_count": null,
            "_view_module": "@jupyter-widgets/base",
            "_view_module_version": "1.2.0",
            "_view_name": "LayoutView",
            "align_content": null,
            "align_items": null,
            "align_self": null,
            "border": null,
            "bottom": null,
            "display": null,
            "flex": null,
            "flex_flow": null,
            "grid_area": null,
            "grid_auto_columns": null,
            "grid_auto_flow": null,
            "grid_auto_rows": null,
            "grid_column": null,
            "grid_gap": null,
            "grid_row": null,
            "grid_template_areas": null,
            "grid_template_columns": null,
            "grid_template_rows": null,
            "height": null,
            "justify_content": null,
            "justify_items": null,
            "left": null,
            "margin": null,
            "max_height": null,
            "max_width": null,
            "min_height": null,
            "min_width": null,
            "object_fit": null,
            "object_position": null,
            "order": null,
            "overflow": null,
            "overflow_x": null,
            "overflow_y": null,
            "padding": null,
            "right": null,
            "top": null,
            "visibility": null,
            "width": null
          }
        },
        "0dd34900e47c45f4a25eeb97cf578f12": {
          "model_module": "@jupyter-widgets/controls",
          "model_name": "DescriptionStyleModel",
          "model_module_version": "1.5.0",
          "state": {
            "_model_module": "@jupyter-widgets/controls",
            "_model_module_version": "1.5.0",
            "_model_name": "DescriptionStyleModel",
            "_view_count": null,
            "_view_module": "@jupyter-widgets/base",
            "_view_module_version": "1.2.0",
            "_view_name": "StyleView",
            "description_width": ""
          }
        },
        "38a397e5e22746019160b2cb3d054668": {
          "model_module": "@jupyter-widgets/base",
          "model_name": "LayoutModel",
          "model_module_version": "1.2.0",
          "state": {
            "_model_module": "@jupyter-widgets/base",
            "_model_module_version": "1.2.0",
            "_model_name": "LayoutModel",
            "_view_count": null,
            "_view_module": "@jupyter-widgets/base",
            "_view_module_version": "1.2.0",
            "_view_name": "LayoutView",
            "align_content": null,
            "align_items": null,
            "align_self": null,
            "border": null,
            "bottom": null,
            "display": null,
            "flex": null,
            "flex_flow": null,
            "grid_area": null,
            "grid_auto_columns": null,
            "grid_auto_flow": null,
            "grid_auto_rows": null,
            "grid_column": null,
            "grid_gap": null,
            "grid_row": null,
            "grid_template_areas": null,
            "grid_template_columns": null,
            "grid_template_rows": null,
            "height": null,
            "justify_content": null,
            "justify_items": null,
            "left": null,
            "margin": null,
            "max_height": null,
            "max_width": null,
            "min_height": null,
            "min_width": null,
            "object_fit": null,
            "object_position": null,
            "order": null,
            "overflow": null,
            "overflow_x": null,
            "overflow_y": null,
            "padding": null,
            "right": null,
            "top": null,
            "visibility": null,
            "width": null
          }
        },
        "fa33c6620604462db1b1c98343799c05": {
          "model_module": "@jupyter-widgets/controls",
          "model_name": "ProgressStyleModel",
          "model_module_version": "1.5.0",
          "state": {
            "_model_module": "@jupyter-widgets/controls",
            "_model_module_version": "1.5.0",
            "_model_name": "ProgressStyleModel",
            "_view_count": null,
            "_view_module": "@jupyter-widgets/base",
            "_view_module_version": "1.2.0",
            "_view_name": "StyleView",
            "bar_color": null,
            "description_width": ""
          }
        },
        "ad92099f92b14266a9dab717fbba3fb7": {
          "model_module": "@jupyter-widgets/base",
          "model_name": "LayoutModel",
          "model_module_version": "1.2.0",
          "state": {
            "_model_module": "@jupyter-widgets/base",
            "_model_module_version": "1.2.0",
            "_model_name": "LayoutModel",
            "_view_count": null,
            "_view_module": "@jupyter-widgets/base",
            "_view_module_version": "1.2.0",
            "_view_name": "LayoutView",
            "align_content": null,
            "align_items": null,
            "align_self": null,
            "border": null,
            "bottom": null,
            "display": null,
            "flex": null,
            "flex_flow": null,
            "grid_area": null,
            "grid_auto_columns": null,
            "grid_auto_flow": null,
            "grid_auto_rows": null,
            "grid_column": null,
            "grid_gap": null,
            "grid_row": null,
            "grid_template_areas": null,
            "grid_template_columns": null,
            "grid_template_rows": null,
            "height": null,
            "justify_content": null,
            "justify_items": null,
            "left": null,
            "margin": null,
            "max_height": null,
            "max_width": null,
            "min_height": null,
            "min_width": null,
            "object_fit": null,
            "object_position": null,
            "order": null,
            "overflow": null,
            "overflow_x": null,
            "overflow_y": null,
            "padding": null,
            "right": null,
            "top": null,
            "visibility": null,
            "width": null
          }
        },
        "bf89919f9ddd495e99951a13a913147c": {
          "model_module": "@jupyter-widgets/controls",
          "model_name": "DescriptionStyleModel",
          "model_module_version": "1.5.0",
          "state": {
            "_model_module": "@jupyter-widgets/controls",
            "_model_module_version": "1.5.0",
            "_model_name": "DescriptionStyleModel",
            "_view_count": null,
            "_view_module": "@jupyter-widgets/base",
            "_view_module_version": "1.2.0",
            "_view_name": "StyleView",
            "description_width": ""
          }
        }
      }
    }
  },
  "cells": [
    {
      "cell_type": "markdown",
      "source": [
        "# Fine Tuning Llama2 With Custom Data Using LoRA and PEFT"
      ],
      "metadata": {
        "id": "iOWe3tLASjEf"
      }
    },
    {
      "cell_type": "markdown",
      "source": [
        "PEFT - when applies transfer learning on these LLM models, it freezes most of the weights of that LLM and only some of the weights will be retrained. Based on that it provides accurate results on our custom data."
      ],
      "metadata": {
        "id": "rvxXcI69Va53"
      }
    },
    {
      "cell_type": "markdown",
      "source": [
        "## Installing All Required Libraries"
      ],
      "metadata": {
        "id": "y304UsBVStQo"
      }
    },
    {
      "cell_type": "code",
      "execution_count": null,
      "metadata": {
        "id": "h8gCqJUf-bHU",
        "colab": {
          "base_uri": "https://localhost:8080/"
        },
        "outputId": "be82b30b-e5f2-4dd8-829e-09fa4d635ba5"
      },
      "outputs": [
        {
          "output_type": "stream",
          "name": "stdout",
          "text": [
            "\u001b[?25l     \u001b[90m━━━━━━━━━━━━━━━━━━━━━━━━━━━━━━━━━━━━━━━━\u001b[0m \u001b[32m0.0/244.2 kB\u001b[0m \u001b[31m?\u001b[0m eta \u001b[36m-:--:--\u001b[0m\r\u001b[2K     \u001b[91m━━━━━━━━━━━━━━━━━━━━━━━━━━━━━━━━━\u001b[0m\u001b[91m╸\u001b[0m\u001b[90m━━━━━━\u001b[0m \u001b[32m204.8/244.2 kB\u001b[0m \u001b[31m6.0 MB/s\u001b[0m eta \u001b[36m0:00:01\u001b[0m\r\u001b[2K     \u001b[90m━━━━━━━━━━━━━━━━━━━━━━━━━━━━━━━━━━━━━━━━\u001b[0m \u001b[32m244.2/244.2 kB\u001b[0m \u001b[31m5.4 MB/s\u001b[0m eta \u001b[36m0:00:00\u001b[0m\n",
            "\u001b[2K     \u001b[90m━━━━━━━━━━━━━━━━━━━━━━━━━━━━━━━━━━━━━━━━\u001b[0m \u001b[32m72.9/72.9 kB\u001b[0m \u001b[31m6.8 MB/s\u001b[0m eta \u001b[36m0:00:00\u001b[0m\n",
            "\u001b[2K     \u001b[90m━━━━━━━━━━━━━━━━━━━━━━━━━━━━━━━━━━━━━━━━\u001b[0m \u001b[32m92.5/92.5 MB\u001b[0m \u001b[31m8.6 MB/s\u001b[0m eta \u001b[36m0:00:00\u001b[0m\n",
            "\u001b[2K     \u001b[90m━━━━━━━━━━━━━━━━━━━━━━━━━━━━━━━━━━━━━━━━\u001b[0m \u001b[32m7.4/7.4 MB\u001b[0m \u001b[31m53.9 MB/s\u001b[0m eta \u001b[36m0:00:00\u001b[0m\n",
            "\u001b[2K     \u001b[90m━━━━━━━━━━━━━━━━━━━━━━━━━━━━━━━━━━━━━━━━\u001b[0m \u001b[32m77.4/77.4 kB\u001b[0m \u001b[31m8.5 MB/s\u001b[0m eta \u001b[36m0:00:00\u001b[0m\n",
            "\u001b[2K     \u001b[90m━━━━━━━━━━━━━━━━━━━━━━━━━━━━━━━━━━━━━━━━\u001b[0m \u001b[32m7.8/7.8 MB\u001b[0m \u001b[31m78.1 MB/s\u001b[0m eta \u001b[36m0:00:00\u001b[0m\n",
            "\u001b[2K     \u001b[90m━━━━━━━━━━━━━━━━━━━━━━━━━━━━━━━━━━━━━━━━\u001b[0m \u001b[32m536.6/536.6 kB\u001b[0m \u001b[31m44.9 MB/s\u001b[0m eta \u001b[36m0:00:00\u001b[0m\n",
            "\u001b[2K     \u001b[90m━━━━━━━━━━━━━━━━━━━━━━━━━━━━━━━━━━━━━━━━\u001b[0m \u001b[32m38.3/38.3 MB\u001b[0m \u001b[31m14.9 MB/s\u001b[0m eta \u001b[36m0:00:00\u001b[0m\n",
            "\u001b[2K     \u001b[90m━━━━━━━━━━━━━━━━━━━━━━━━━━━━━━━━━━━━━━━━\u001b[0m \u001b[32m116.3/116.3 kB\u001b[0m \u001b[31m16.0 MB/s\u001b[0m eta \u001b[36m0:00:00\u001b[0m\n",
            "\u001b[2K     \u001b[90m━━━━━━━━━━━━━━━━━━━━━━━━━━━━━━━━━━━━━━━━\u001b[0m \u001b[32m134.8/134.8 kB\u001b[0m \u001b[31m17.8 MB/s\u001b[0m eta \u001b[36m0:00:00\u001b[0m\n",
            "\u001b[?25h\u001b[31mERROR: pip's dependency resolver does not currently take into account all the packages that are installed. This behaviour is the source of the following dependency conflicts.\n",
            "ibis-framework 7.1.0 requires pyarrow<15,>=2, but you have pyarrow 15.0.0 which is incompatible.\u001b[0m\u001b[31m\n",
            "\u001b[0m"
          ]
        }
      ],
      "source": [
        "!pip install -q accelerate==0.21.0 peft==0.4.0 bitsandbytes==0.40.2 transformers==4.31.0 trl==0.4.7"
      ]
    },
    {
      "cell_type": "markdown",
      "source": [
        "- **`accelerate`** - provides high-performance, energy-efficient computation on the CPU by leveraging its vector-processing capability\n",
        "- **`peft`** - parameter efficient fine tuning, which is used to perform LoRA.\n",
        "- **`bitsandbytes`** - To perform quantization of weights from 32 bit (float32) to probably like 8 bit (int8) since running in Google Colab\n",
        "- **`transformers`** - To use pretrained models\n",
        "- **`trl`** - trl (transformer reinforcement learning) provides a set of tools to train transformer language models with Reinforcement Learning"
      ],
      "metadata": {
        "id": "RurzqHiES2z4"
      }
    },
    {
      "cell_type": "code",
      "source": [
        "import os\n",
        "import torch\n",
        "from datasets import load_dataset\n",
        "from transformers import (\n",
        "    AutoModelForCausalLM,\n",
        "    AutoTokenizer,\n",
        "    BitsAndBytesConfig,\n",
        "    HfArgumentParser,\n",
        "    TrainingArguments,\n",
        "    pipeline,\n",
        "    logging,\n",
        ")\n",
        "from peft import LoraConfig, PeftModel\n",
        "from trl import SFTTrainer"
      ],
      "metadata": {
        "id": "Ga_Xp5yLS2id"
      },
      "execution_count": null,
      "outputs": []
    },
    {
      "cell_type": "markdown",
      "source": [
        "### **In case of Llama 2, the following prompt template is used for the chat models**\n",
        "System Prompt (optional) to guide the model\n",
        "\n",
        "\n",
        "User prompt (required) to give the instruction\n",
        "\n",
        "\n",
        "Model Answer (required)\n",
        "\n",
        "**Hence, we need to have our data in the following format**\n"
      ],
      "metadata": {
        "id": "RbglmPp0WCVz"
      }
    },
    {
      "cell_type": "markdown",
      "source": [
        "![image.png](data:image/png;base64,iVBORw0KGgoAAAANSUhEUgAAAccAAACkCAIAAABtiXKlAAAgAElEQVR4Ae2dv2vbzv/Hv3/MbQKDh0CgQ7zEU0SHmA5vQ+FtMtQUaigUd4goBBH4IC81bwjmDUUZ3iIQUKDgobgQUIagDMGBggPFGQKCDIKABoO2Ly/9PMmy48R249jPUGpJp7t73eNOT7/0Oln3fy7+QAAEQAAEZkfg/2ZXFEoCARAAARBwoaoYBCAAAiAwSwJQ1VnSRFkgAAIgAFXFGAABEACBWRKAqs6SJsoCARAAAagqxgAIgAAIzJIAVHWWNFEWCIAACEBVMQZAAARAYJYEoKqzpImyQAAEQACqijEAAiAAArMkAFWdJU2UBQIgAAJQVYwBEAABEJglAajqLGmiLBAAARCAqmIMgAAIgMAsCUBVZ0kTZYEACIAAVBVjAARAAARmSQCqOkuaKAsEQAAEoKoYAyAAAiAwSwJQ1VnSRFkgAAIgAFXFGAABEACBWRKAqs6SJsoCARAAgYVXVadvnhpG9O+X/dx95vQvOHtOe89u0HMDQf0gAAIJAguvqrdahVVbw6p614ulNkq96Dte65wb0zg1gx2/vXR+UgHtXudQURqK0mhppz174J9n96LS0ht+gZyqnsgik80Ez7nv2NcdlWxWlAPNuA4l3SYavbtU7Z6pl5bPxHXd7LypTNgFARCYjsDsVdU60w1rMqN+tbVf0SU/IgupapZyXbTE1yL9eyUwli/625/bfs3WUYUxVvrWiws9lxlfzo1WybH8dk1uKMperbTGhC2pQ5nNll/Ua1HcWqeiN71a6GA9KD0qdJRt0QmTbFiGfjqaVzK1f1QRWL70UVYaivyxlGeCuOtZ7Vra30z4YiRo3ulVVpDPg2Oj87quaxnHhhV8rwwbPT51+HwcAYGVJjBTVR309c+isFbvhC7UA2h/tcRcvnxghn5i1ukPKZcnoGnZpYMbhUJO6tyHZSZU1W5/YMJuJ9aggW2eduNdPxNVzeTzsIThz4dsG86ROtI/qYu5fP1HNq90qt2uMUH6yZlpm8ZluHvZLLCS+juuofu1wN7rQdHj87p253Ne2KrrXPa4oAdSuROxCQIg4LozU1X7Sq2uCeJnrRcJmc/31tQO5NpbsbqrqCfdtENkGc23eWFL7tyO6I2HlGukqu7r+nvOXU2oqqnkmMh7spmVz1VV7a76noQs21vPTL1QBCaq15m20v19+4MQf1WQo1psXoUnP5DXdV2nd0QSXz3sZn3JjU8Na8EnCIDAbFR1YHX2RGGt3DxL38k6F0qRFasHOsVAT1RpZ11Yk4Y82bFX7JNVdUfvn0pC5K4mVNUxvggsV1Evs53EYGDMTVWtHzI56V+zb7pHpjqGlGPCjtpNx0/DgXzVLLKSL7vdrwXhQztu3oN5/TLGf8mNTw2twCcIrDiBqX3V23Z9k1zUbnwFx0jNfcY+cTfaruuEN6zxSf7Wree0vmml78OfrKp/a5bbV7dDdzWhqq5731Pf5xmj0GrrRzRVlTRqLqpqtT8VyUW9yuLljk91nV9qdY2sLn1sdaKpqthqp7MrUHSVHNVAXqPEh/KGJw7sLjmtxaEosnfC+NSwDHyCwCoTmFpV6day1LzI1Ai3f1hiuZLyoxfPQ4+G3T+uFVhFT/m7U6mq65zLhVytfee6KVX1zLCvO60PosAYWytJJ/20aXNRVQo+lL6OCiWPT/UMHNi9H63aFlmd35bSkdBrtcRKlZ1CHArgWzU+b3SmbTa3mdAY8XTD+NSoEGyAwKoSmFpVXde+aJUpoqr3MyaRnd6JXKFpeia8KtUampkZP7XNFkVXs2ZLplNV15scL/7TzVTVoNPvutpnUWCCdJp0pOeiqq47prEUHR2NIjlG7UutviWwnJSc+PeCG8lpq2Q+2huRl5L8KbJRU4jjU4crwhEQWEECM1BVonbfI2Faq6rZN7auY1u9U00hx7CoXCTEa2QY0e+NaVXVd1elzoU69tnSnvqasf2kdzYnVaV2jQ0lP5DKjdJrVRx6SiFz+o7LE24O582cIgtPd8enRqdhAwRWnsCMVNXjaJ01y2tCqZE9CeOd0tf+4sTrvqf5QcYxT61Oraq+u1r6InHPvTq9q9T9PhmWvuedo6r6vPxQspL9eK8/NfSGS73vdW+SA/ZGKzNBuUgczFbVh/JaZ0ppzATa2NRE9dgBgZUnMEtVJZh2V/tU1/zb/HtT3i43+aDqbVvaYKXDUNHOlbES7HXOKFUdOPadbd/Z3W9lxqSOt23bgRdMykKzVeEfPcvJol8BOOfKOhPEz6r523YGrntvdb9VBP45JD/fvFXVdV1v8qd+FFsaWux9JlId83/rLCfWD82+10zntqvuCGyz2U0GXrJU9cG8FvXaiPsM+loal5owGTsgAAKzVlWfaHid21e6vEO/UAr+cusV/nGi8LRx3TBKVWn2aegvVNK0qrq2/j5WVRL/pGHCq8rwY2HuH1DVJK5sDhGlgd0Ng9Rey4X1neawn5ulqp58j88b1ZJpxPjUzCw4CAKrSmA+qpqiGfqV5Bg+9m+Uqj62nMzzHfJ2Iw8385RxB+dq2+iKHdszOxGdHn12MmWavMmSsAcCIJBN4I+oanbVkx0l5Qpv8O9sO/XDrcnKmO1ZgTDd2faVWubfLTDbalAaCIDAyySw8Kpqm8ErmvwXNbXDmOyz4bbN4E1X/vuunt+gZyOBikEABLIILLyqZhmNYyAAAiCwsASgqgvbNTAMBEDgRRKAqr7IboPRIAACC0sAqrqwXQPDQAAEXiQBqOqL7DYYDQIgsLAEoKoL2zUwDARA4EUSgKq+yG6D0SAAAgtLAKq6sF0Dw0AABF4kAajqi+w2GA0CILCwBGahqgPLPGrRCvWNrPX+pmz6wHn67/SnrHoxs9NLFZ70CoDFbA6sAoGlIzC1qt6b8iYTXlUkUlWJXvu/VlbHvC/1sQTP5cQ7/R6bffnOf6ZXuiwfSLQIBOZEYFpV7f5TYNtqj3sZVf/UyFpq5Yn2W8fJN6U+sZglykYLhcnJRQuWqHVoCgi8fAJTqqql7zC2m1hFNWJinbaUb2Z6mcDbTquhxwupetED+WNZfCcph3o3XtXK7p0axqmh74lsw3eEs95mcmtqB3LtbVVqqNyao/12QzXvLONQqn1UOjeuaxmtj9VaozOZ3HvZbde5MdS9WpkMS61u0G83lPZvaqh1rrX8c47jNrl2r3OoSO/Ktb2Wds69kZreFNPu3/f0Rq22q3XvXeeXLr+rSkdBXvtcVdp9epX1ScvPrsdvknb6FwTE+LfKWKnmv2uG/leHEEc9gA0QAIFnIDClqnqrqLKi9KOf8e5UulctNq8SraJ16r+E69c5prLJiu9aOgmoru5W1nN56aevw6RcSkORdgqjVLV/XM2zfHlf65wa+kFNzOWrx/4brUyZCeJWqbyr1N8I7O96/W1VbtRLOW4ZgoRRqR1TZoXa5+r6Vk32whrlNSbsaJwimzJj8lmf1qB+VartUeij+k/gPjrXaiXH8m8l9aSjNWpijhW/GMFXiwdE3C7V9uTqJit8qFff1pW9ajFciNB72Xa9vrVe3qW2y94yX/K5H0UN35X1sQRVTXUYdkFgoQhMq6ruwOrs0eLPwquKfGT2E/MotN5nrKG0CJ4h5QrNy5AAvc+/3uFfmeok8pMzmForJczqXjWLrBgqDh11zuRCrt4mASPVK3zt0lGqoqRe06axx9gHLz0qJHuDshf3DTsKa9xoFcZq3yO32zths5g4xy9q0G1ussJe+LXhui7lFYK8pKqsekLlULtyktd2WjKr8A9Z6x2saJ4X7JXnGHsFttH0WhLamrUEd5iGTxAAgecnMLWq+k24NbX9cp4xlluvHHCL3dPy9FX9LmincyoJvEb8VktMKDU6PSstphGYUapq7gvsvR7pnHe+qeSYfB6oasVfDIrTIHOfTTbx5bmiVE705wU69oxwn05Ieq9hCgU9RV/Ew0NOZ5exHZ0CAZ6qehby3xaW9newQmJGY6nAssYvAsi1KKwCnyAAAgtEYEaq6rfI6RtfSVvj9f68BaNK33peOi0exSXRMQos+gtb5dZLH5VEFNLLkyE0dNxToqFlq1jgUZLqzVRV3aQic+V7Rkb/kbVDU0nxwSeoKpclqAWqGuHGBggsJIGZqiq10HPNwlX56MBls5CT6JaYPNPYb03QcGzr2giikA2Td1xHqKrd/sDYbtvyl1bl/vfCu5zqcRqUVMZE/ckdyu57lOFxv7poUo4rPzzD/3R+SozVUlEGekzitUpfLJxEcu0a66teNQsp55drUbJy7IEACCwEgWlVtX/V40UwCF/6N7xBA/vqNgUT+4elRIw1q/n9/8opX4/Uhw8ahLnoeBCXDA/Fn5zqcRr0dFW970i50PmlWrjy40q9LdJNQfrJIRn01G0m7HtzWY9X1d63EsvJZhThDSLFaeFOWYFdEACBZyQwnare6N58d7NzbZGT6Nj9H1IxmpwJm0Xh1O1KZYObp6Ikx9wvlb9yQdWB1d6lp18TS1P9ahVZQWqHzyfdW7YvWd7zA8IbxbgJJMy5MdVj38/lVO+pqipsyfq1F7a966o7AttUOBeaKz9sY/jpmI0iy1XUSy+v0+98oV3df2JsElVl+eqBN+k3cHyYleOw7X4ddrueY5V/u8FkmmMtwgqJYfPxCQIg4E6nqnRXa7Q+lmieyv9bK0lHae/V9fy1tFy6rmt39f3Kei7MyzIXuHd6h9W4/FyxFT1CcN/TdjOr5lTvqaoqHerSdlBtflvuJJSNK394CA1s8yBuVH5b0qM5/UlU9a+WHmXPrdcOh2C6rvVTFmNo+Vr0lTNsDI6AAAj8cQJTq6pvMf043R79+/QgCDCqdY4fGOXum9Nnjil/TFK6lAn3STT9uCotUh34xhPmDU/zreIfGgtTxnzGwVYve8YjwFHmoNX2uHOik7EBAiDwBwnMSFXHWmz/kAR/wmrsaQuTGKvqHzYpVtU/XDGqAwEQmB2Beaqq09UbirJbzicf15+d8XMqCao6J7AoFgRWgsA8VfV3p9lQlAPNjH/d/yKYxj/z/8Pm0nsADvGz/j9MHdWBwIwJzFNVZ2wqigMBEACBF0AAqvoCOgkmggAIvCACUNUX1FkwFQRA4AUQgKq+gE6CiSAAAi+IAFT1BXUWTAUBEHgBBKCqL6CTYCIIgMALIgBVfUGdBVNBAAReAAGo6gvoJJgIAiDwgggslqpaV4bhvynqBSGEqSAAAiDAEVgkVfVXtUquHkiLmPrrifIrsNo949TohQu3hM3xViG9jFdrsa87qp/3QINYh5TwCQIgMF8Cs1dV60w3Eu/NSzRgTKr9vZZ8W6Bj7hdpISxvwVGJFmLJl7/5b8aj9+en34F9p1dZIVofsH9UEVi+9FGmxUrpXYWCuBu9z88yjlOLUfNGjk/lz8Q2CIAACKQJzFRVB339syis1TvJVfqCOseneitcBYtN+RlocZFgedSghN+GEa2Ld+mlRq8udd3u10K8PqDdrqXeyW+bxmX0qkG78zkvbNXjN58msIxPTZyKHRAAARBIEZiZqtpXanVNED9rvayXio5PJZuGVrWyjiuMSdFaUSm7XddufxCE3TCdHNViM4oeZKx1mirA6R3VxVy+ehi+VD+RPj41cSp2QAAEQIAnMAtVHVidPVFYKzfPsu78x6eGtvQPSyySSP8g6Swrfun0IxczPDn4vGoWQ2e2+7UgfOBW4aMQLRN21G469poswjKab/PCltzJfKvW+NRkSdgDARAAAZ/A1Kp6265vkovazbzrH58ad0K3uSFIp2n5DJYSya1X9jUzXJ8qzkTruQoUXSVHNRkroDWx1eoaYxRabXXGPFcwsLvktBbrmeuUjE/lTMEmCIAACPgEplZVutcuNS8yNdV1x6dGnXDZLGw0u/xKolHSwDKP5DLpo7C+00q/fPRaLbFSZacQhwKijK7rDuzej1ZtSyBx5deP4s+h5bPM5jYTGt4yqKmkB1OHz8cREACB1SYwtaq6rn3RKlNEVe9nyeL4VA++Y3wRCl+74zpi4PRPm6StqRVYXcrLWEnlpq2Gy7EvtfqWwLJWeemfUHS1fGAGS5YmM49PTZ6LPRAAARAgAjNQVSrmvqfR7H9VvcpyWsenUgxUVK8f7g/np8RYRUvGQGmtJyaP8DO5Mq9VMVzjLzhqd9X39CSA9isdeaATxqdyBWMTBEAABHgCM1JVr0jrrFleE0qN7EdBR6XaJ9UhD9Qr7qabfpzgTGasoienxLJV9b7XjZ7B8pt7o5WZoFwEbbfOlFIuX/46ytRxqUER+AABEACBLAKzVFUq3+5qn+opdzKuNyPV1t+z6smwh9vXdwS2Vm7+6Fn3rjtw7N8daZMlJvq9crNU1TH/t85yYv3Q7HvrTju3XXVHYJtR6NYiIzPdaipzfGrcGmyBAAiAwDCBWauqX0NWgDWum08dekyVO80yDmolmqfy//Kl3YyHYbNUleapuidy5RXNU3l/wvpOM/GLL96GuMpwa3xqeBY+QQAEQGCYwHxUdbieEUf6h6X0D0+HznTubPvOdp6kdI5NeT2HdahcHAABEACBORB4VlUdZD+mOodmokgQAAEQ+EMEnlNVnctW5W0r+zHVP9R8VAMCIAACMybwnKo646agOBAAARBYAAJQ1QXoBJgAAiCwRASgqkvUmWgKCIDAAhCAqi5AJ8AEEACBJSIAVV2izkRTQAAEFoAAVHUBOgEmgAAILBEBqOoSdSaaAgIgsAAEoKoL0AkwAQRAYIkIQFWXqDPRFBAAgQUgAFVdgE6ACSAAAktEAKq6RJ2JpoAACCwAAajqAnQCTAABEFgiAlDVJepMNAUEQGABCEBVF6ATYAIIgMASEYCqLlFnoikgAAILQACqugCdABNAAASWiABUdYk6E00BARBYAAJQ1QXoBJgAAiCwRASgqkvUmWgKCIDAAhCAqi5AJ8AEEACBJSIAVV2izkRTQAAEFoAAVHUBOgEmgAAILBEBqOoSdSaaAgIgsAAEoKoL0AkwAQRAYIkIQFWXqDPRFBAAgQUgAFVdgE6ACSAAAktEAKq6RJ2JpoAACCwAAajqAnQCTAABEFgiAlDVJepMNAUEQGABCEBVF6ATYAIIgMASEYCqLlFnoikgAAILQACqugCdABNAAASWiABUdYk6E00BARBYAAJQ1QXohMeZYPdODSP6d9F3RmR3fpvGpTUqdUSmmR92+hectac9e+Y1TFygc2Mao3ElinH6ZkT41ByJOJEHOxyBgdU9NZ6zszlb/vzmdKrqDb7eHW+2dxX9esZrhzdmUbcHjm0/We5MmYnySShVI2Wir26z2vewI+56sRBHehHl9frRvOFNIu1O9Kzd6xwqSkNRGi3ttGcPfLYp0Qyt8qrwsnMnnMgik81H9Imfl782h488ojjrqML+1qxJcljt+mtRfC2Km3nGKtrtJHlwTkzAOZWEjWY3PrBaW9Op6q1WYUw+55FZ2t+M7T/m2uFzr8j2uTzp5Z0BxJQnuc6vmoWcZEQ6edEijXgtiq8ExvJFf/tzO5AYrx/ZttoLtNJ1XVPme/ZGq+RYfrsmNxRlr1ZaY8KW1KHMVvuzVywVWMwzJryKdsXWRdJ6quVRquqNJVZSf4flOIaUY+xxhYR5XfcRqhplOpehqhGM5IbTO2r3kofCPbv9gZUO++HuQ5+/2tqvaKQ+dPJLSIeqPkMvWccTO00Z1k2kqt2vBSHru42UZViVSO8KhQ1B+hkNbl5V6SIRdjtRmjuwzdNuvBsYSVkqR6N9waeoalF8LUTXp+cBFQrD9mdQyjgEVc2A8rRDttl6mxe2WtmqeqdXJ/nij6r+1RJz+fKBGd4ARQkvdWP+qnpragdy7a1Y3VXUk64Ve0MBMvu6ozak6tuafKCZyVutfltR2t43XlBIVWrow1dzBvvfbeXQtAdO/1SVP5ap6tPk1W6bakM1bdcd2L0fqrJbLX+UWz+5c+Ia1c51eB/tuva5qrT7zi9d+ViTjrqO6/RO5Oo7Sbv0RcY2D5X2b9e96+oHfqP0LpfbD4nqeyLbqEh0N+3/8xuZ0Y6sQxOoKvl0heZlRu7RqirrJ1XOXeVV1VRyTPyWfQVxdcxDVZn0RRK2VW8QOMYXobIvpxxe61xr7dXK7yTlsMMHC3zDrGAAtPQruz8cARhY5lErGCE/orAG16Yn+6p3PeOoFYyrI5Mb9uEI8aqW3pVre2rnd/IbKrRKpEbp3eCi6Lcbin6VPNO3NBrM/u6Ioev6o/eQRr3rxXO82lud5EXHNT570/ohkwh+NbhGJc7sH5bYez0e9QmrRuiAZTRJpuXHGpOoeGF25quqzoVSZMXqgU5BvRNV2lkX1qROzNsxG6KQE2t0QkfbL+dzonIejxtzn7F9o/+9Xsytlz7KSkOR3jXNIV3OgHkus41a/f26+IFyKbvlPBMqR9wtCflNFe1Xt/lGyG9WSeD2atJJoKr2qVRkgvhB0X7oqp/3sOebRaq0KZa2a/JetcgKtU/V8mdFfldkwe023bRWPtXFV2VPNOXalsA2ZfPet5EuDGrFTmGuqko+3Ws1UwVHq2pF/21Iuchd5VWV5IzlKupl3HMZzL2gwax9VSb/7Eh+EIC+KkrqcZPzVW3jS5HlxFpD65yo0ts8GXkdjp9Bv/3JS91TlIZc214vbhYSgZcbvbrG8m9l7YdhnLRqW0L+vd5Pja4nqWr/uJJn+dJHWT0x9EOpvMaEHS0smUaI9N1QttbLu55hW8RWj6TNMZVNVnzX0ik2rau7lfVcXvppu66l77DCP36s0unsMhYFLs9kllP8oFv/uJpn+fK+1jk19IOamMtXj+Nh73vrvctmKZcvvpOUhiJ/lOKqszo1cczuqu/zwlZ97A07BfS5mx4q4CEd8Ctxekd1Mviw+9Kd1vmqKsniJ+7O0XWdcMzT9+X3mpCraDdxx/X/q7DN+LaCsm8Wi5uyMf5yjgsIt+hiKMpncTYqmdXa0QHvnre4ma/8F4+5IPNdu5Zj/HHnTC6wYvOK0j1Vquo0QUeXR3BffKOVWcE7wTsYX0Kue2/IG9HFENTgD27OMQ7NnujzQV91XFRrjKpqty55GUF0lVdV173vqe/zjFFotZXp05Hlc/FVK0c9clGPLPqq+FuzqGeD4CyNH8aPH8fYK7DNZtdTRj81jsm69BUeq+qg29xkxX0zHo/UU0I9HiJeZzxJVd27fsJrvlZLTAinH2iEsLWqlgwWl6NxSDXWO8HXsGdDeM10/ymwHd0bNt3mhii+LvvXTu+byD54dl81i6woc34JDd1c3Cbq/Y1ica0S1z7RkKOTnKtWaayLGpSUCuh7R8frQMKEW89pfdOa6JY0kXOBduarqnSV5krKj17WAz40vApfk/OElk4uZPi9TZ2RlN1JyXHXXpCFSmbyWVgAqWryogpTKOjJpMRXgdtTXzOhQd4Ap0pkf+CaeaV5lw13MCzQbAjsL40X7/mqKkW1fN0PLeA+Ofu5o77nfuu6jilvCN6TA0lV9c61rzutD6LAGFsrSSd8g/yi5qSqgZ5q+0L1xHbjniXfjfHRXtd1r1WRCQrNkmWkJrCfy8IQJeqpVDD6aaoaoR049p3VO29V44jz8AihI3G9v0mCS41OxjVzRt8oxsB1b7XK62Zz13/Gg75E/fiMuS8M3XpT9CYUdH/0JmQ3svTBDbouNmp69GUwIkP3ayF9Ubvet/VIHUgX1D+uFVjF//ZIp72Q/fmqquuFHSs078yEV6Vag4+c0kWY9ec7fcSPVHXCR2FSuONrL0pIXvOxDkYnBBuZlUYHOVXiLo+4NO5gWDCXJTiUuLzD0yb+fMBXzY5qhaUPG0Mpkar6Xxvk7mWoalDGXVf7LApMkE5jP89LShIOa4w/qZZHPwNA31sDU84JQs671Yh7NrO66GC0EdfPY/c4ZI0+3+mLMj1NVSlY36q9WRfWiuLbmtyolSZXVdd1funyzjpdMxT4UrTz8K6GPANRvXadnxLb7XS/id43vaeb5C546pzVpugBu+zejxr70Eb/hO7Qx00rjQzo0/TDCB3gag0mweoPajeXZxE3p1NVu11jqRgKdW0Y/Ykb7NhW71RTyNMpKhf+1dhtbrDSv137zk79c8LYVqRlcUETbsXXXpghZWqsg+EJ4SfdT0URq+AguQO+W8SNS05A49K4g2GBdOOWjHLyl3d41uSf41U1I6rFF83Zzx3mVNV3V6Wfpvo69nG4U/1Nct5j9ypIzhCyRMYnq6rrdr8WArc07lmyIT3S4l6m0ZWaYeOx299p5Lat9Niz+Vtv1/Vc4/jmKdGckTuO2SgKbxQjfv6XJzM8QujIEEzXdWzr2tAaNTHHig0/UkGNqn23zQaFRNxzmaLn3u2d59n5o7Rtjb6gsnt/ZEOyEsZOK40J6PtlZelAUMuDk2BZ1izoselU1bs1Tjj89516Wmf5lve1v+IBRDcsiWck+TNpe4aq6vyUKAYXxhY872yEatC9YUm95oy570i54GafG5fc5TFGVQc9dZulHnKiQtLCzVX3wOZYVb1MPqY6VBRnP5fGq6rvrm5L0t8RH6d3lbrfp370QyJcKbx2cIejzSlUNSqDiwC4w+OH62VvPid4eCDI3f+vHN/6kDHR1FxcfHrrKb4qcYhjTVQiT4YbNkFlI1Q1NIXMDnx8apTQUNXX3v0cfYXU2t/l6DubOjcnJWKyYSH+Z3bvJ8+ZYM+fVirWj4Ip3DCLrb+f8DHVhA649z3tU/GhSbCwkpfwOaWqBpEa6UffGbiORVOEbEMOpgDuTXm73OSDqrdtaYPjfqtXcqz4SeuGv86ip6y4p4ymU1VB3NP9XwfZlypVFHzhe90S6+BwL1n6jsA2pY7va9x1VdpV/EZx45K7POLSvCtkrdo6JyCu0+/QJDU3w+vX9qtVZAUpfAbfvbce80urcaqaGdWiOinAR35Z91uZosa+OxPVSgQKaKEAAARnSURBVPZzXzkD8onoaXvv9x3OubLOBPGzav62qVH3VvdbRQin7zh8vHZwh6NNquVJEYCohMB5DAvxx8+Xjv+L0lQve/POQuWbN6E8sLtH9SLjA0rkUVLQ/9TrKZqO6ZuHOjd75dVKQWohmLoc2FY028mblN4mesV9w5/Idm5o+oVNGgFwzP1S+SsXVB1Y7d0CC78evCedKxU/uurd8pf/KrM9IzDBe36Ad5OdG1M9jtvEjd600Y/evzWUN8GDB0HeUQH9B3XgXCk1Rj6n9WjDFiDDtKpKD4QflGnUeH/CViImYl+FESI/ObdeST3mZhlNP4TkZ39VaZ6FUaRpfVVJPZFKa37F+dJ+J/F4XayDWZ0w6Ou7pbBRwvpOy3vGj87kxuVIVS0f6K2wUcKrmprxuxGnd1gNy2csV2xlPVuaZZnv+HAKyJ80Mqrl38n6KLj/o5h1SlVd1z6pRqpKT2sk+1FIdlNowh9XVdd1f+vSdggyt15JPkne/14X6bdYFNUXP+v909RP2pzeUTRC6AGH0q7WS0UAXNd7VikopHiQnFwNW576dC5b5WDgsfy2pF3Zxl44selJYfL5s6Svanf1/cp6YDZZvr7TNKJr4qpZYCyY8XddCi4xVjmOkulpDS0eut68IudRcqM3ZfKTdsNInZ95TEA/NX5YSgeS5TzJlMXKNLWq+s3xXaHI90m1MXSUooBpKt11vPDWqOzpsyfYj6JvftWpaZUJCqBTnpKXk9p7274bW3GAZew5GaaO9FUpqhU6NRn5pj80ZTc92led2GJC7fnRwzkm6ETH89xHDk5yY73x+aiO8usd0uhhA0cd8a164jXxxKE1ypZJjvfV7eEJzGTGwKoRPZU890XvzUhVF41BpKp/2jBOVedVtSmzsnrlXed3NveWlsmjWvOyLLNcxw5NvVLLj4sAZJaHgwtJ4KGA/kIaPS+joKqzJfsHVDX4gVbwa1f/B4gUm2hLr6V2GKGebaumKI1+oBn+MFdRGlzUfIpCkXXBCDjdfyvlfycKjyyY5XMxZ0lV9Xf7mS5gEhH1fKJJjbn0JwoFARB4bgJLqqrPjRX1gwAIrCwBqOrKdj0aDgIgMBcCUNW5YEWhIAACK0sAqrqyXY+GgwAIzIUAVHUuWFEoCIDAyhKAqq5s16PhIAACcyEAVZ0LVhQKAiCwsgSgqivb9Wg4CIDAXAhAVeeCFYWCAAisLAGo6sp2PRoOAiAwFwJQ1blgRaEgAAIrSwCqurJdj4aDAAjMhQBUdS5YUSgIgMDKEoCqrmzXo+EgAAJzIQBVnQtWFAoCILCyBKCqK9v1aDgIgMBcCEBV54IVhYIACKwsAajqynY9Gg4CIDAXAlDVuWBFoSAAAitLAKq6sl2PhoMACMyFAFR1LlhRKAiAwMoSgKqubNej4SAAAnMhAFWdC1YUCgIgsLIEoKor2/VoOAiAwFwIQFXnghWFggAIrCwBqOrKdj0aDgIgMBcCUNW5YEWhIAACK0vg/wEOX2I/39RgpgAAAABJRU5ErkJggg==)"
      ],
      "metadata": {
        "id": "ebNEexOMWVIz"
      }
    },
    {
      "cell_type": "markdown",
      "source": [
        "## Fine Tuning Llama2"
      ],
      "metadata": {
        "id": "WsC4urkSXr-W"
      }
    },
    {
      "cell_type": "markdown",
      "source": [
        "- Free Google Colab offers a 15GB Graphics (Limited Resources that are barely enough to store Llama 2–7b’s weights)\n",
        "- We also need to consider the overhead due to optimizer states, gradients, and forward activations\n",
        "- So, Full fine-tuning is not possible here. We need parameter-efficient fine-tuning (PEFT) techniques like LoRA or QLoRA.\n",
        "- To drastically reduce the VRAM usage, we must fine-tune the model in 4-bit precision, which is why we’ll use QLoRA here."
      ],
      "metadata": {
        "id": "rjBraTRoXzK2"
      }
    },
    {
      "cell_type": "markdown",
      "source": [
        "1. Loading the llama-2-7b-chat-hf model (chat model)\n",
        "2. Train it on the icare_chat_data, which will produce our fine-tuned model Llama-2-7b-chat-finetune"
      ],
      "metadata": {
        "id": "mOT-YJK_a6tJ"
      }
    },
    {
      "cell_type": "markdown",
      "source": [
        "**QLoRA will use a rank of 64 inorder to find the low rank index, with a scaling parameter of 16. We’ll load the Llama 2 model directly in 4-bit precision using the NF4 type and train it for one epoch**"
      ],
      "metadata": {
        "id": "a2wUgr3FbRNa"
      }
    },
    {
      "cell_type": "markdown",
      "source": [
        "### Setting Parameters"
      ],
      "metadata": {
        "id": "1m7iR2cwdGet"
      }
    },
    {
      "cell_type": "code",
      "source": [
        "# The model that you want to train from the Hugging Face hub\n",
        "model_name = \"meta-llama/Llama-2-7b-chat-hf\"\n",
        "\n",
        "# # The instruction dataset to use\n",
        "# dataset_name = \"data/icare_chat_data\"\n",
        "\n",
        "# Fine-tuned model name\n",
        "new_model = \"Llama-2-7b-chat-finetuned\"\n",
        "\n",
        "################################################################################\n",
        "# QLoRA parameters\n",
        "################################################################################\n",
        "\n",
        "# LoRA attention dimension (rank of 64)\n",
        "lora_r = 64\n",
        "\n",
        "# Alpha parameter for LoRA scaling\n",
        "lora_alpha = 16\n",
        "\n",
        "# Dropout probability for LoRA layers\n",
        "lora_dropout = 0.1\n",
        "\n",
        "################################################################################\n",
        "# bitsandbytes parameters\n",
        "################################################################################\n",
        "\n",
        "# Activate 4-bit precision base model loading\n",
        "use_4bit = True\n",
        "\n",
        "# Compute dtype for 4-bit base models\n",
        "bnb_4bit_compute_dtype = \"float16\"\n",
        "\n",
        "# Quantization type (fp4 or nf4)\n",
        "bnb_4bit_quant_type = \"nf4\"\n",
        "\n",
        "# Activate nested quantization for 4-bit base models (double quantization)\n",
        "use_nested_quant = False\n",
        "\n",
        "################################################################################\n",
        "# TrainingArguments parameters\n",
        "################################################################################\n",
        "\n",
        "# Output directory where the model predictions and checkpoints will be stored\n",
        "output_dir = \"./results\"\n",
        "\n",
        "# Number of training epochs\n",
        "num_train_epochs = 1\n",
        "\n",
        "# Enable fp16/bf16 training (set bf16 to True if using A100 GPU)\n",
        "fp16 = False\n",
        "bf16 = False\n",
        "\n",
        "# Batch size per GPU for training\n",
        "per_device_train_batch_size = 4\n",
        "\n",
        "# Batch size per GPU for evaluation\n",
        "per_device_eval_batch_size = 4\n",
        "\n",
        "# Number of update steps to accumulate the gradients for\n",
        "gradient_accumulation_steps = 1\n",
        "\n",
        "# Enable gradient checkpointing\n",
        "gradient_checkpointing = True\n",
        "\n",
        "# Maximum gradient normal (gradient clipping)\n",
        "max_grad_norm = 0.3\n",
        "\n",
        "# Initial learning rate (AdamW optimizer)\n",
        "learning_rate = 2e-4\n",
        "\n",
        "# Weight decay to apply to all layers except bias/LayerNorm weights\n",
        "weight_decay = 0.001\n",
        "\n",
        "# Optimizer to use\n",
        "optim = \"paged_adamw_32bit\"\n",
        "\n",
        "# Learning rate schedule (similarity)\n",
        "lr_scheduler_type = \"cosine\"\n",
        "\n",
        "# Number of training steps (overrides num_train_epochs)\n",
        "max_steps = -1\n",
        "\n",
        "# Ratio of steps for a linear warmup (from 0 to learning rate)\n",
        "warmup_ratio = 0.03\n",
        "\n",
        "# Group sequences into batches with same length\n",
        "# Saves memory and speeds up training considerably\n",
        "group_by_length = True\n",
        "\n",
        "# Save checkpoint every X updates steps\n",
        "save_steps = 0\n",
        "\n",
        "# Log every X updates steps\n",
        "logging_steps = 25\n",
        "\n",
        "################################################################################\n",
        "# Supervised Fine Tuning (SFT) Parameters\n",
        "################################################################################\n",
        "\n",
        "# Maximum sequence length to use\n",
        "max_seq_length = 1024\n",
        "\n",
        "# Pack multiple short examples in the same input sequence to increase efficiency\n",
        "packing = False\n",
        "\n",
        "# Load the entire model on the GPU 0\n",
        "device_map = {\"\": 0}"
      ],
      "metadata": {
        "id": "fn6BHyvTbQ4S"
      },
      "execution_count": null,
      "outputs": []
    },
    {
      "cell_type": "markdown",
      "source": [
        "**HugginFace Login**"
      ],
      "metadata": {
        "id": "NnqHpsv0gQpE"
      }
    },
    {
      "cell_type": "code",
      "source": [
        "!pip install huggingface_hub\n",
        "from huggingface_hub import notebook_login\n",
        "notebook_login()"
      ],
      "metadata": {
        "colab": {
          "base_uri": "https://localhost:8080/",
          "height": 361,
          "referenced_widgets": [
            "ec0445937c5e4561b31f94e60ed8ee8b",
            "39fbbb2d8a0447ecad1d8c9d5431a7c9",
            "0d8b331d55ce4404908584f1129bb749",
            "1adb877df70044869082c94914891e9e",
            "d3b5222c61784523bb9b7c0db7d82bda",
            "8d8194ef78c347d5a46a94d0129ed299",
            "f867ac50f9d64bdda0483849b3176f53",
            "89b0756cfdda4e5aad0b353b44f85a16",
            "40829e743ae843c3ae0bd904f8ea2515",
            "ec1555cf0f4b4556967e9f38545cfdae",
            "88b853a738114c0995c87de20df838b3",
            "cfb96a6add2f4ac9b2317928fe0c1cbb",
            "6f4e816682aa4c5b8d15557af397c89c",
            "407e5d502bf242529477ef586b9df8ca",
            "4c6f3dcaac514cbbb5187c7353b7aed7",
            "46f977be3c9247cfb1d0ea915d2de7e7",
            "c1ad48058e2e4932ad12719bbb8f2f6a",
            "9af5e0c4a6bd41608f187826fd4e64c5",
            "9dd2a27c55c8468e8ddd26a91952decf",
            "e9cb6fc27bce4bdc9a0d13c403668b8c",
            "b9a15e52581c465c884ee861aa9a25ca",
            "426c6950e51a42c28758f571581fab5e",
            "bcc3fbae0bae470abe010d5d73e8fdc1",
            "4fdb0c9400a84949a5b33dced7ce3ffd",
            "0096b5c834a74672bdbfd90bbc02544e",
            "f050bcc0d2334b5a93eed399c2b178cf",
            "1618c293002c42f6bf60aac7dcb9d21a",
            "46c177a109f4416ca275f4c74ad3d798",
            "453b5c87b919492288b4d6ef7a27bee4",
            "8e7b840b2f1d4548a6b63d673e0be09d",
            "38c392dffccd419dbcc718cf2c0737dd",
            "f56334dcc18447718d8faf72b0a5b0e2"
          ]
        },
        "id": "MNNXHJM3gTjJ",
        "outputId": "2423fb15-cc39-492c-b5c4-aecdaa80bc8f"
      },
      "execution_count": null,
      "outputs": [
        {
          "output_type": "stream",
          "name": "stdout",
          "text": [
            "Requirement already satisfied: huggingface_hub in /usr/local/lib/python3.10/dist-packages (0.20.3)\n",
            "Requirement already satisfied: filelock in /usr/local/lib/python3.10/dist-packages (from huggingface_hub) (3.13.1)\n",
            "Requirement already satisfied: fsspec>=2023.5.0 in /usr/local/lib/python3.10/dist-packages (from huggingface_hub) (2023.6.0)\n",
            "Requirement already satisfied: requests in /usr/local/lib/python3.10/dist-packages (from huggingface_hub) (2.31.0)\n",
            "Requirement already satisfied: tqdm>=4.42.1 in /usr/local/lib/python3.10/dist-packages (from huggingface_hub) (4.66.2)\n",
            "Requirement already satisfied: pyyaml>=5.1 in /usr/local/lib/python3.10/dist-packages (from huggingface_hub) (6.0.1)\n",
            "Requirement already satisfied: typing-extensions>=3.7.4.3 in /usr/local/lib/python3.10/dist-packages (from huggingface_hub) (4.9.0)\n",
            "Requirement already satisfied: packaging>=20.9 in /usr/local/lib/python3.10/dist-packages (from huggingface_hub) (23.2)\n",
            "Requirement already satisfied: charset-normalizer<4,>=2 in /usr/local/lib/python3.10/dist-packages (from requests->huggingface_hub) (3.3.2)\n",
            "Requirement already satisfied: idna<4,>=2.5 in /usr/local/lib/python3.10/dist-packages (from requests->huggingface_hub) (3.6)\n",
            "Requirement already satisfied: urllib3<3,>=1.21.1 in /usr/local/lib/python3.10/dist-packages (from requests->huggingface_hub) (2.0.7)\n",
            "Requirement already satisfied: certifi>=2017.4.17 in /usr/local/lib/python3.10/dist-packages (from requests->huggingface_hub) (2024.2.2)\n"
          ]
        },
        {
          "output_type": "display_data",
          "data": {
            "text/plain": [
              "VBox(children=(HTML(value='<center> <img\\nsrc=https://huggingface.co/front/assets/huggingface_logo-noborder.sv…"
            ],
            "application/vnd.jupyter.widget-view+json": {
              "version_major": 2,
              "version_minor": 0,
              "model_id": "ec0445937c5e4561b31f94e60ed8ee8b"
            }
          },
          "metadata": {}
        }
      ]
    },
    {
      "cell_type": "markdown",
      "source": [
        "### Loading Custom Dataset"
      ],
      "metadata": {
        "id": "onpN56PAfqN8"
      }
    },
    {
      "cell_type": "code",
      "source": [
        "from torch.utils.data import Dataset, DataLoader\n",
        "from transformers import AutoTokenizer\n",
        "\n",
        "class CustomTextDataset(Dataset):\n",
        "    def __init__(self, file_path, tokenizer, max_length):\n",
        "        self.tokenizer = tokenizer\n",
        "        self.max_length = max_length\n",
        "        with open(file_path, 'r', encoding='utf-8') as file:\n",
        "            self.lines = [line.strip() for line in file.readlines() if line.strip()]\n",
        "\n",
        "    def __len__(self):\n",
        "        return len(self.lines)\n",
        "\n",
        "    def __getitem__(self, index):\n",
        "        text = self.lines[index]\n",
        "        inputs = self.tokenizer.encode_plus(\n",
        "            text,\n",
        "            None,\n",
        "            add_special_tokens=True,\n",
        "            max_length=self.max_length,\n",
        "            padding=\"max_length\",\n",
        "            return_token_type_ids=False,\n",
        "            truncation=True\n",
        "        )\n",
        "        return {\n",
        "            'input_ids': inputs['input_ids'],\n",
        "            'attention_mask': inputs['attention_mask']\n",
        "        }\n",
        "\n",
        "# Path to your text file\n",
        "file_path = \"/content/data/icare_chat_data.txt\"\n",
        "\n",
        "# Assuming you've already loaded or defined a tokenizer\n",
        "tokenizer = AutoTokenizer.from_pretrained(model_name, trust_remote_code=True)\n",
        "\n",
        "# Create a dataset instance\n",
        "max_length = 1024\n",
        "custom_dataset = CustomTextDataset(file_path, tokenizer, max_length)\n",
        "\n",
        "# Now, you can use `custom_dataset` in your training loop in place of `dataset`\n"
      ],
      "metadata": {
        "id": "Pb1EmsEFfwHI"
      },
      "execution_count": null,
      "outputs": []
    },
    {
      "cell_type": "markdown",
      "source": [
        "- First of all, we want to load the dataset we defined. Here, our dataset is already preprocessed but, usually, this is where you would reformat the prompt, filter out bad text, combine multiple datasets, etc.\n",
        "- Then, we’re configuring bitsandbytes for 4-bit quantization.\n",
        "- Next, we're loading the Llama 2 model in 4-bit precision on a GPU with the corresponding tokenizer.\n",
        "- Finally, we're loading configurations for QLoRA, regular training parameters, and passing everything to the SFTTrainer. The training can finally start!"
      ],
      "metadata": {
        "id": "cINGDr84c59R"
      }
    },
    {
      "cell_type": "markdown",
      "source": [
        "### Loading Data and Fine Tuning"
      ],
      "metadata": {
        "id": "Z_JF985ZdKtk"
      }
    },
    {
      "cell_type": "code",
      "source": [
        "# # Load dataset (you can process it here)\n",
        "# dataset = load_dataset(custom_dataset, split=\"train\")\n",
        "\n",
        "# Load tokenizer and model with QLoRA configuration\n",
        "compute_dtype = getattr(torch, bnb_4bit_compute_dtype)\n",
        "\n",
        "bnb_config = BitsAndBytesConfig(\n",
        "    load_in_4bit=use_4bit,\n",
        "    bnb_4bit_quant_type=bnb_4bit_quant_type,\n",
        "    bnb_4bit_compute_dtype=compute_dtype,\n",
        "    bnb_4bit_use_double_quant=use_nested_quant,\n",
        ")\n",
        "\n",
        "# Check GPU compatibility with bfloat16\n",
        "if compute_dtype == torch.float16 and use_4bit:\n",
        "    major, _ = torch.cuda.get_device_capability()\n",
        "    if major >= 8:\n",
        "        print(\"=\" * 80)\n",
        "        print(\"Your GPU supports bfloat16: accelerate training with bf16=True\")\n",
        "        print(\"=\" * 80)\n",
        "\n",
        "# Load base model\n",
        "model = AutoModelForCausalLM.from_pretrained(\n",
        "    model_name,\n",
        "    quantization_config=bnb_config,\n",
        "    device_map=device_map\n",
        ")\n",
        "model.config.use_cache = False\n",
        "model.config.pretraining_tp = 1\n",
        "\n",
        "# Load LLama2 tokenizer\n",
        "tokenizer = AutoTokenizer.from_pretrained(model_name, trust_remote_code=True)\n",
        "tokenizer.pad_token = tokenizer.eos_token\n",
        "tokenizer.padding_side = \"right\" # Fix weird overflow issue with fp16 training\n",
        "\n",
        "# Load LoRA configuration\n",
        "peft_config = LoraConfig(\n",
        "    lora_alpha=lora_alpha,\n",
        "    lora_dropout=lora_dropout,\n",
        "    r=lora_r,\n",
        "    bias=\"none\",\n",
        "    task_type=\"CAUSAL_LM\",\n",
        ")\n",
        "\n",
        "# Set training parameters\n",
        "training_arguments = TrainingArguments(\n",
        "    output_dir=output_dir,\n",
        "    num_train_epochs=num_train_epochs,\n",
        "    per_device_train_batch_size=per_device_train_batch_size,\n",
        "    gradient_accumulation_steps=gradient_accumulation_steps,\n",
        "    optim=optim,\n",
        "    save_steps=save_steps,\n",
        "    logging_steps=logging_steps,\n",
        "    learning_rate=learning_rate,\n",
        "    weight_decay=weight_decay,\n",
        "    fp16=fp16,\n",
        "    bf16=bf16,\n",
        "    max_grad_norm=max_grad_norm,\n",
        "    max_steps=max_steps,\n",
        "    warmup_ratio=warmup_ratio,\n",
        "    group_by_length=group_by_length,\n",
        "    lr_scheduler_type=lr_scheduler_type,\n",
        "    report_to=\"tensorboard\"\n",
        ")\n",
        "\n",
        "# Set supervised fine-tuning parameters\n",
        "trainer = SFTTrainer(\n",
        "    model=model,\n",
        "    train_dataset=custom_dataset, #custom_dataset\n",
        "    peft_config=peft_config,\n",
        "    dataset_text_field=\"text\",\n",
        "    max_seq_length=max_seq_length,\n",
        "    tokenizer=tokenizer,\n",
        "    args=training_arguments,\n",
        "    packing=packing,\n",
        ")\n",
        "\n",
        "# Train model\n",
        "trainer.train()"
      ],
      "metadata": {
        "colab": {
          "base_uri": "https://localhost:8080/",
          "height": 417,
          "referenced_widgets": [
            "4c44ff9ea7db4f3a8d2fc8b183f71732",
            "de4abce21cd7497faee776977af80169",
            "a150f4747d9f4fb9b292572cb8ae6f6b",
            "41d8c1259b294ad1ab331696f8ef9d80",
            "56331b59815b4ceca6ee1f6fff2fda30",
            "b1e6d4ba423643648f5f2ffae237762f",
            "0dd34900e47c45f4a25eeb97cf578f12",
            "38a397e5e22746019160b2cb3d054668",
            "fa33c6620604462db1b1c98343799c05",
            "ad92099f92b14266a9dab717fbba3fb7",
            "bf89919f9ddd495e99951a13a913147c"
          ]
        },
        "id": "d9zs465Da6SJ",
        "outputId": "264ddf17-70f9-4077-e306-1d924ee53c6d"
      },
      "execution_count": null,
      "outputs": [
        {
          "output_type": "display_data",
          "data": {
            "text/plain": [
              "Loading checkpoint shards:   0%|          | 0/2 [00:00<?, ?it/s]"
            ],
            "application/vnd.jupyter.widget-view+json": {
              "version_major": 2,
              "version_minor": 0,
              "model_id": "4c44ff9ea7db4f3a8d2fc8b183f71732"
            }
          },
          "metadata": {}
        },
        {
          "output_type": "stream",
          "name": "stderr",
          "text": [
            "Using pad_token, but it is not set yet.\n"
          ]
        },
        {
          "output_type": "error",
          "ename": "ValueError",
          "evalue": "Asking to pad but the tokenizer does not have a padding token. Please select a token to use as `pad_token` `(tokenizer.pad_token = tokenizer.eos_token e.g.)` or add a new pad token via `tokenizer.add_special_tokens({'pad_token': '[PAD]'})`.",
          "traceback": [
            "\u001b[0;31m---------------------------------------------------------------------------\u001b[0m",
            "\u001b[0;31mValueError\u001b[0m                                Traceback (most recent call last)",
            "\u001b[0;32m<ipython-input-12-b0698f371606>\u001b[0m in \u001b[0;36m<cell line: 79>\u001b[0;34m()\u001b[0m\n\u001b[1;32m     77\u001b[0m \u001b[0;34m\u001b[0m\u001b[0m\n\u001b[1;32m     78\u001b[0m \u001b[0;31m# Train model\u001b[0m\u001b[0;34m\u001b[0m\u001b[0;34m\u001b[0m\u001b[0m\n\u001b[0;32m---> 79\u001b[0;31m \u001b[0mtrainer\u001b[0m\u001b[0;34m.\u001b[0m\u001b[0mtrain\u001b[0m\u001b[0;34m(\u001b[0m\u001b[0;34m)\u001b[0m\u001b[0;34m\u001b[0m\u001b[0;34m\u001b[0m\u001b[0m\n\u001b[0m",
            "\u001b[0;32m/usr/local/lib/python3.10/dist-packages/transformers/trainer.py\u001b[0m in \u001b[0;36mtrain\u001b[0;34m(self, resume_from_checkpoint, trial, ignore_keys_for_eval, **kwargs)\u001b[0m\n\u001b[1;32m   1537\u001b[0m             \u001b[0mself\u001b[0m\u001b[0;34m.\u001b[0m\u001b[0m_inner_training_loop\u001b[0m\u001b[0;34m,\u001b[0m \u001b[0mself\u001b[0m\u001b[0;34m.\u001b[0m\u001b[0m_train_batch_size\u001b[0m\u001b[0;34m,\u001b[0m \u001b[0margs\u001b[0m\u001b[0;34m.\u001b[0m\u001b[0mauto_find_batch_size\u001b[0m\u001b[0;34m\u001b[0m\u001b[0;34m\u001b[0m\u001b[0m\n\u001b[1;32m   1538\u001b[0m         )\n\u001b[0;32m-> 1539\u001b[0;31m         return inner_training_loop(\n\u001b[0m\u001b[1;32m   1540\u001b[0m             \u001b[0margs\u001b[0m\u001b[0;34m=\u001b[0m\u001b[0margs\u001b[0m\u001b[0;34m,\u001b[0m\u001b[0;34m\u001b[0m\u001b[0;34m\u001b[0m\u001b[0m\n\u001b[1;32m   1541\u001b[0m             \u001b[0mresume_from_checkpoint\u001b[0m\u001b[0;34m=\u001b[0m\u001b[0mresume_from_checkpoint\u001b[0m\u001b[0;34m,\u001b[0m\u001b[0;34m\u001b[0m\u001b[0;34m\u001b[0m\u001b[0m\n",
            "\u001b[0;32m/usr/local/lib/python3.10/dist-packages/transformers/trainer.py\u001b[0m in \u001b[0;36m_inner_training_loop\u001b[0;34m(self, batch_size, args, resume_from_checkpoint, trial, ignore_keys_for_eval)\u001b[0m\n\u001b[1;32m   1551\u001b[0m         \u001b[0mlogger\u001b[0m\u001b[0;34m.\u001b[0m\u001b[0mdebug\u001b[0m\u001b[0;34m(\u001b[0m\u001b[0;34mf\"Currently training with a batch size of: {self._train_batch_size}\"\u001b[0m\u001b[0;34m)\u001b[0m\u001b[0;34m\u001b[0m\u001b[0;34m\u001b[0m\u001b[0m\n\u001b[1;32m   1552\u001b[0m         \u001b[0;31m# Data loader and number of training steps\u001b[0m\u001b[0;34m\u001b[0m\u001b[0;34m\u001b[0m\u001b[0m\n\u001b[0;32m-> 1553\u001b[0;31m         \u001b[0mtrain_dataloader\u001b[0m \u001b[0;34m=\u001b[0m \u001b[0mself\u001b[0m\u001b[0;34m.\u001b[0m\u001b[0mget_train_dataloader\u001b[0m\u001b[0;34m(\u001b[0m\u001b[0;34m)\u001b[0m\u001b[0;34m\u001b[0m\u001b[0;34m\u001b[0m\u001b[0m\n\u001b[0m\u001b[1;32m   1554\u001b[0m \u001b[0;34m\u001b[0m\u001b[0m\n\u001b[1;32m   1555\u001b[0m         \u001b[0;31m# Setting up training control variables:\u001b[0m\u001b[0;34m\u001b[0m\u001b[0;34m\u001b[0m\u001b[0m\n",
            "\u001b[0;32m/usr/local/lib/python3.10/dist-packages/transformers/trainer.py\u001b[0m in \u001b[0;36mget_train_dataloader\u001b[0;34m(self)\u001b[0m\n\u001b[1;32m    848\u001b[0m \u001b[0;34m\u001b[0m\u001b[0m\n\u001b[1;32m    849\u001b[0m         \u001b[0;32mif\u001b[0m \u001b[0;32mnot\u001b[0m \u001b[0misinstance\u001b[0m\u001b[0;34m(\u001b[0m\u001b[0mtrain_dataset\u001b[0m\u001b[0;34m,\u001b[0m \u001b[0mtorch\u001b[0m\u001b[0;34m.\u001b[0m\u001b[0mutils\u001b[0m\u001b[0;34m.\u001b[0m\u001b[0mdata\u001b[0m\u001b[0;34m.\u001b[0m\u001b[0mIterableDataset\u001b[0m\u001b[0;34m)\u001b[0m\u001b[0;34m:\u001b[0m\u001b[0;34m\u001b[0m\u001b[0;34m\u001b[0m\u001b[0m\n\u001b[0;32m--> 850\u001b[0;31m             \u001b[0mdataloader_params\u001b[0m\u001b[0;34m[\u001b[0m\u001b[0;34m\"sampler\"\u001b[0m\u001b[0;34m]\u001b[0m \u001b[0;34m=\u001b[0m \u001b[0mself\u001b[0m\u001b[0;34m.\u001b[0m\u001b[0m_get_train_sampler\u001b[0m\u001b[0;34m(\u001b[0m\u001b[0;34m)\u001b[0m\u001b[0;34m\u001b[0m\u001b[0;34m\u001b[0m\u001b[0m\n\u001b[0m\u001b[1;32m    851\u001b[0m             \u001b[0mdataloader_params\u001b[0m\u001b[0;34m[\u001b[0m\u001b[0;34m\"drop_last\"\u001b[0m\u001b[0;34m]\u001b[0m \u001b[0;34m=\u001b[0m \u001b[0mself\u001b[0m\u001b[0;34m.\u001b[0m\u001b[0margs\u001b[0m\u001b[0;34m.\u001b[0m\u001b[0mdataloader_drop_last\u001b[0m\u001b[0;34m\u001b[0m\u001b[0;34m\u001b[0m\u001b[0m\n\u001b[1;32m    852\u001b[0m             \u001b[0mdataloader_params\u001b[0m\u001b[0;34m[\u001b[0m\u001b[0;34m\"worker_init_fn\"\u001b[0m\u001b[0;34m]\u001b[0m \u001b[0;34m=\u001b[0m \u001b[0mseed_worker\u001b[0m\u001b[0;34m\u001b[0m\u001b[0;34m\u001b[0m\u001b[0m\n",
            "\u001b[0;32m/usr/local/lib/python3.10/dist-packages/transformers/trainer.py\u001b[0m in \u001b[0;36m_get_train_sampler\u001b[0;34m(self)\u001b[0m\n\u001b[1;32m    811\u001b[0m                 \u001b[0mlengths\u001b[0m \u001b[0;34m=\u001b[0m \u001b[0;32mNone\u001b[0m\u001b[0;34m\u001b[0m\u001b[0;34m\u001b[0m\u001b[0m\n\u001b[1;32m    812\u001b[0m             \u001b[0mmodel_input_name\u001b[0m \u001b[0;34m=\u001b[0m \u001b[0mself\u001b[0m\u001b[0;34m.\u001b[0m\u001b[0mtokenizer\u001b[0m\u001b[0;34m.\u001b[0m\u001b[0mmodel_input_names\u001b[0m\u001b[0;34m[\u001b[0m\u001b[0;36m0\u001b[0m\u001b[0;34m]\u001b[0m \u001b[0;32mif\u001b[0m \u001b[0mself\u001b[0m\u001b[0;34m.\u001b[0m\u001b[0mtokenizer\u001b[0m \u001b[0;32mis\u001b[0m \u001b[0;32mnot\u001b[0m \u001b[0;32mNone\u001b[0m \u001b[0;32melse\u001b[0m \u001b[0;32mNone\u001b[0m\u001b[0;34m\u001b[0m\u001b[0;34m\u001b[0m\u001b[0m\n\u001b[0;32m--> 813\u001b[0;31m             return LengthGroupedSampler(\n\u001b[0m\u001b[1;32m    814\u001b[0m                 \u001b[0mself\u001b[0m\u001b[0;34m.\u001b[0m\u001b[0margs\u001b[0m\u001b[0;34m.\u001b[0m\u001b[0mtrain_batch_size\u001b[0m \u001b[0;34m*\u001b[0m \u001b[0mself\u001b[0m\u001b[0;34m.\u001b[0m\u001b[0margs\u001b[0m\u001b[0;34m.\u001b[0m\u001b[0mgradient_accumulation_steps\u001b[0m\u001b[0;34m,\u001b[0m\u001b[0;34m\u001b[0m\u001b[0;34m\u001b[0m\u001b[0m\n\u001b[1;32m    815\u001b[0m                 \u001b[0mdataset\u001b[0m\u001b[0;34m=\u001b[0m\u001b[0mself\u001b[0m\u001b[0;34m.\u001b[0m\u001b[0mtrain_dataset\u001b[0m\u001b[0;34m,\u001b[0m\u001b[0;34m\u001b[0m\u001b[0;34m\u001b[0m\u001b[0m\n",
            "\u001b[0;32m/usr/local/lib/python3.10/dist-packages/transformers/trainer_pt_utils.py\u001b[0m in \u001b[0;36m__init__\u001b[0;34m(self, batch_size, dataset, lengths, model_input_name, generator)\u001b[0m\n\u001b[1;32m    569\u001b[0m             \u001b[0mmodel_input_name\u001b[0m \u001b[0;34m=\u001b[0m \u001b[0mmodel_input_name\u001b[0m \u001b[0;32mif\u001b[0m \u001b[0mmodel_input_name\u001b[0m \u001b[0;32mis\u001b[0m \u001b[0;32mnot\u001b[0m \u001b[0;32mNone\u001b[0m \u001b[0;32melse\u001b[0m \u001b[0;34m\"input_ids\"\u001b[0m\u001b[0;34m\u001b[0m\u001b[0;34m\u001b[0m\u001b[0m\n\u001b[1;32m    570\u001b[0m             if (\n\u001b[0;32m--> 571\u001b[0;31m                 \u001b[0;32mnot\u001b[0m \u001b[0;34m(\u001b[0m\u001b[0misinstance\u001b[0m\u001b[0;34m(\u001b[0m\u001b[0mdataset\u001b[0m\u001b[0;34m[\u001b[0m\u001b[0;36m0\u001b[0m\u001b[0;34m]\u001b[0m\u001b[0;34m,\u001b[0m \u001b[0mdict\u001b[0m\u001b[0;34m)\u001b[0m \u001b[0;32mor\u001b[0m \u001b[0misinstance\u001b[0m\u001b[0;34m(\u001b[0m\u001b[0mdataset\u001b[0m\u001b[0;34m[\u001b[0m\u001b[0;36m0\u001b[0m\u001b[0;34m]\u001b[0m\u001b[0;34m,\u001b[0m \u001b[0mBatchEncoding\u001b[0m\u001b[0;34m)\u001b[0m\u001b[0;34m)\u001b[0m\u001b[0;34m\u001b[0m\u001b[0;34m\u001b[0m\u001b[0m\n\u001b[0m\u001b[1;32m    572\u001b[0m                 \u001b[0;32mor\u001b[0m \u001b[0mmodel_input_name\u001b[0m \u001b[0;32mnot\u001b[0m \u001b[0;32min\u001b[0m \u001b[0mdataset\u001b[0m\u001b[0;34m[\u001b[0m\u001b[0;36m0\u001b[0m\u001b[0;34m]\u001b[0m\u001b[0;34m\u001b[0m\u001b[0;34m\u001b[0m\u001b[0m\n\u001b[1;32m    573\u001b[0m             ):\n",
            "\u001b[0;32m<ipython-input-11-5e1bd2a1c49e>\u001b[0m in \u001b[0;36m__getitem__\u001b[0;34m(self, index)\u001b[0m\n\u001b[1;32m     14\u001b[0m     \u001b[0;32mdef\u001b[0m \u001b[0m__getitem__\u001b[0m\u001b[0;34m(\u001b[0m\u001b[0mself\u001b[0m\u001b[0;34m,\u001b[0m \u001b[0mindex\u001b[0m\u001b[0;34m)\u001b[0m\u001b[0;34m:\u001b[0m\u001b[0;34m\u001b[0m\u001b[0;34m\u001b[0m\u001b[0m\n\u001b[1;32m     15\u001b[0m         \u001b[0mtext\u001b[0m \u001b[0;34m=\u001b[0m \u001b[0mself\u001b[0m\u001b[0;34m.\u001b[0m\u001b[0mlines\u001b[0m\u001b[0;34m[\u001b[0m\u001b[0mindex\u001b[0m\u001b[0;34m]\u001b[0m\u001b[0;34m\u001b[0m\u001b[0;34m\u001b[0m\u001b[0m\n\u001b[0;32m---> 16\u001b[0;31m         inputs = self.tokenizer.encode_plus(\n\u001b[0m\u001b[1;32m     17\u001b[0m             \u001b[0mtext\u001b[0m\u001b[0;34m,\u001b[0m\u001b[0;34m\u001b[0m\u001b[0;34m\u001b[0m\u001b[0m\n\u001b[1;32m     18\u001b[0m             \u001b[0;32mNone\u001b[0m\u001b[0;34m,\u001b[0m\u001b[0;34m\u001b[0m\u001b[0;34m\u001b[0m\u001b[0m\n",
            "\u001b[0;32m/usr/local/lib/python3.10/dist-packages/transformers/tokenization_utils_base.py\u001b[0m in \u001b[0;36mencode_plus\u001b[0;34m(self, text, text_pair, add_special_tokens, padding, truncation, max_length, stride, is_split_into_words, pad_to_multiple_of, return_tensors, return_token_type_ids, return_attention_mask, return_overflowing_tokens, return_special_tokens_mask, return_offsets_mapping, return_length, verbose, **kwargs)\u001b[0m\n\u001b[1;32m   2745\u001b[0m \u001b[0;34m\u001b[0m\u001b[0m\n\u001b[1;32m   2746\u001b[0m         \u001b[0;31m# Backward compatibility for 'truncation_strategy', 'pad_to_max_length'\u001b[0m\u001b[0;34m\u001b[0m\u001b[0;34m\u001b[0m\u001b[0m\n\u001b[0;32m-> 2747\u001b[0;31m         padding_strategy, truncation_strategy, max_length, kwargs = self._get_padding_truncation_strategies(\n\u001b[0m\u001b[1;32m   2748\u001b[0m             \u001b[0mpadding\u001b[0m\u001b[0;34m=\u001b[0m\u001b[0mpadding\u001b[0m\u001b[0;34m,\u001b[0m\u001b[0;34m\u001b[0m\u001b[0;34m\u001b[0m\u001b[0m\n\u001b[1;32m   2749\u001b[0m             \u001b[0mtruncation\u001b[0m\u001b[0;34m=\u001b[0m\u001b[0mtruncation\u001b[0m\u001b[0;34m,\u001b[0m\u001b[0;34m\u001b[0m\u001b[0;34m\u001b[0m\u001b[0m\n",
            "\u001b[0;32m/usr/local/lib/python3.10/dist-packages/transformers/tokenization_utils_base.py\u001b[0m in \u001b[0;36m_get_padding_truncation_strategies\u001b[0;34m(self, padding, truncation, max_length, pad_to_multiple_of, verbose, **kwargs)\u001b[0m\n\u001b[1;32m   2480\u001b[0m         \u001b[0;31m# Test if we have a padding token\u001b[0m\u001b[0;34m\u001b[0m\u001b[0;34m\u001b[0m\u001b[0m\n\u001b[1;32m   2481\u001b[0m         \u001b[0;32mif\u001b[0m \u001b[0mpadding_strategy\u001b[0m \u001b[0;34m!=\u001b[0m \u001b[0mPaddingStrategy\u001b[0m\u001b[0;34m.\u001b[0m\u001b[0mDO_NOT_PAD\u001b[0m \u001b[0;32mand\u001b[0m \u001b[0;34m(\u001b[0m\u001b[0;32mnot\u001b[0m \u001b[0mself\u001b[0m\u001b[0;34m.\u001b[0m\u001b[0mpad_token\u001b[0m \u001b[0;32mor\u001b[0m \u001b[0mself\u001b[0m\u001b[0;34m.\u001b[0m\u001b[0mpad_token_id\u001b[0m \u001b[0;34m<\u001b[0m \u001b[0;36m0\u001b[0m\u001b[0;34m)\u001b[0m\u001b[0;34m:\u001b[0m\u001b[0;34m\u001b[0m\u001b[0;34m\u001b[0m\u001b[0m\n\u001b[0;32m-> 2482\u001b[0;31m             raise ValueError(\n\u001b[0m\u001b[1;32m   2483\u001b[0m                 \u001b[0;34m\"Asking to pad but the tokenizer does not have a padding token. \"\u001b[0m\u001b[0;34m\u001b[0m\u001b[0;34m\u001b[0m\u001b[0m\n\u001b[1;32m   2484\u001b[0m                 \u001b[0;34m\"Please select a token to use as `pad_token` `(tokenizer.pad_token = tokenizer.eos_token e.g.)` \"\u001b[0m\u001b[0;34m\u001b[0m\u001b[0;34m\u001b[0m\u001b[0m\n",
            "\u001b[0;31mValueError\u001b[0m: Asking to pad but the tokenizer does not have a padding token. Please select a token to use as `pad_token` `(tokenizer.pad_token = tokenizer.eos_token e.g.)` or add a new pad token via `tokenizer.add_special_tokens({'pad_token': '[PAD]'})`."
          ]
        }
      ]
    },
    {
      "cell_type": "code",
      "source": [
        "# Save trained model\n",
        "trainer.model.save_pretrained(new_model)"
      ],
      "metadata": {
        "id": "XfF8SbkOIFLV"
      },
      "execution_count": null,
      "outputs": []
    },
    {
      "cell_type": "markdown",
      "source": [
        "## Checking The Training Plots on Tensorboard"
      ],
      "metadata": {
        "id": "fyhSo2UmILi0"
      }
    },
    {
      "cell_type": "code",
      "source": [
        "%load_ext tensorboard\n",
        "%tensorboard --logdir results/runs"
      ],
      "metadata": {
        "id": "EBmTph-BIF68"
      },
      "execution_count": null,
      "outputs": []
    },
    {
      "cell_type": "markdown",
      "source": [
        "## Using The Pipeline To Ask Questions"
      ],
      "metadata": {
        "id": "VRPrf0lnIX1Y"
      }
    },
    {
      "cell_type": "code",
      "source": [
        "# Ignore warnings\n",
        "logging.set_verbosity(logging.CRITICAL)\n",
        "\n",
        "# Run text generation pipeline with our next model\n",
        "prompt = \"I'm feeling lonely and I can't meet new people at the same time.\"\n",
        "pipe = pipeline(task=\"text-generation\", model=model, tokenizer=tokenizer, max_length=200)\n",
        "result = pipe(f\"<s>[INST] {prompt} [/INST]\")\n",
        "print(result[0]['generated_text'])"
      ],
      "metadata": {
        "id": "pFl1aBuGIF3w"
      },
      "execution_count": null,
      "outputs": []
    },
    {
      "cell_type": "code",
      "source": [
        "# Empty VRAM\n",
        "del model\n",
        "del pipe\n",
        "del trainer\n",
        "import gc\n",
        "gc.collect()\n",
        "gc.collect()"
      ],
      "metadata": {
        "id": "B98ARyoNIF04"
      },
      "execution_count": null,
      "outputs": []
    },
    {
      "cell_type": "markdown",
      "source": [
        "## Storing The New Fine Tuned Llama2 Model"
      ],
      "metadata": {
        "id": "IT6Z7F4zJcHm"
      }
    },
    {
      "cell_type": "markdown",
      "source": [
        "**How can we store our new Llama-2-7b-chat-finetuned model now? We need to merge the weights from LoRA with the base model. Unfortunately, as far as I know, there is no straightforward way to do it: we need to reload the base model in FP16 precision and use the peft library to merge everything.**"
      ],
      "metadata": {
        "id": "mb3yHUYtJiBm"
      }
    },
    {
      "cell_type": "code",
      "source": [
        "# Reload model in FP16 and merge it with LoRA weights\n",
        "base_model = AutoModelForCausalLM.from_pretrained(\n",
        "    model_name,\n",
        "    low_cpu_mem_usage=True,\n",
        "    return_dict=True,\n",
        "    torch_dtype=torch.float16,\n",
        "    device_map=device_map,\n",
        ")\n",
        "model = PeftModel.from_pretrained(base_model, new_model)\n",
        "model = model.merge_and_unload()\n",
        "\n",
        "# Reload tokenizer to save it\n",
        "tokenizer = AutoTokenizer.from_pretrained(model_name, trust_remote_code=True)\n",
        "tokenizer.pad_token = tokenizer.eos_token\n",
        "tokenizer.padding_side = \"right\""
      ],
      "metadata": {
        "id": "BSCTJoIKIFy0"
      },
      "execution_count": null,
      "outputs": []
    },
    {
      "cell_type": "markdown",
      "source": [
        "## Pushing The Model To HuggingFace"
      ],
      "metadata": {
        "id": "Nh527ubeJyRF"
      }
    },
    {
      "cell_type": "markdown",
      "source": [
        "**Our weights are merged and we reloaded the tokenizer. We can now push everything to the Hugging Face Hub to save our model.**"
      ],
      "metadata": {
        "id": "pOLZ59a3J8Sm"
      }
    },
    {
      "cell_type": "code",
      "source": [
        "import locale\n",
        "locale.getpreferredencoding = lambda: \"UTF-8\""
      ],
      "metadata": {
        "id": "01pJ8xjuIFv4"
      },
      "execution_count": null,
      "outputs": []
    },
    {
      "cell_type": "code",
      "source": [
        "!huggingface-cli login\n",
        "\n",
        "model.push_to_hub(\"entbappy/Llama-2-7b-chat-finetune\", check_pr=True)\n",
        "\n",
        "tokenizer.push_to_hub(\"entbappy/Llama-2-7b-chat-finetune\",check_pr=True)"
      ],
      "metadata": {
        "id": "2OHDI8B6IFtk"
      },
      "execution_count": null,
      "outputs": []
    },
    {
      "cell_type": "markdown",
      "source": [
        "#### Now This finetuned model can be used for inference by loading it like any other Llama 2 model from the Hub."
      ],
      "metadata": {
        "id": "3cDtdmAtKHHV"
      }
    },
    {
      "cell_type": "code",
      "source": [],
      "metadata": {
        "id": "RN8QSdQ9IFq-"
      },
      "execution_count": null,
      "outputs": []
    }
  ]
}